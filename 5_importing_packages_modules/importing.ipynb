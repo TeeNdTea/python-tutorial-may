{
 "cells": [
  {
   "cell_type": "markdown",
   "id": "5964dee1",
   "metadata": {},
   "source": [
    "## How to import packages and modules in python!\n"
   ]
  },
  {
   "cell_type": "code",
   "execution_count": 1,
   "id": "25df2c53",
   "metadata": {},
   "outputs": [
    {
     "data": {
      "text/plain": [
       "4.0"
      ]
     },
     "execution_count": 1,
     "metadata": {},
     "output_type": "execute_result"
    }
   ],
   "source": [
    "import math\n",
    "math.sqrt(16)"
   ]
  },
  {
   "cell_type": "code",
   "execution_count": 2,
   "id": "41667ebf",
   "metadata": {},
   "outputs": [
    {
     "name": "stdout",
     "output_type": "stream",
     "text": [
      "5.0\n",
      "3.141592653589793\n"
     ]
    }
   ],
   "source": [
    "from math import sqrt,pi\n",
    "print(sqrt(25))\n",
    "print(pi)"
   ]
  },
  {
   "cell_type": "code",
   "execution_count": 5,
   "id": "1978a9ec",
   "metadata": {},
   "outputs": [
    {
     "name": "stdout",
     "output_type": "stream",
     "text": [
      "[1 2 3 4 5]\n"
     ]
    }
   ],
   "source": [
    "import numpy as np\n",
    "arr = np.array([1,2,3,4,5])\n",
    "print(arr)"
   ]
  },
  {
   "cell_type": "code",
   "execution_count": null,
   "id": "c4cb2b6a",
   "metadata": {},
   "outputs": [
    {
     "name": "stdout",
     "output_type": "stream",
     "text": [
      "5.0\n",
      "9.0\n"
     ]
    }
   ],
   "source": [
    "# importing all the functions from math\n",
    "from math import *\n",
    "x = 3\n",
    "y = 4\n",
    "print(hypot(x,y)) # hypotenuse\n",
    "print(pow(x,2)) # power"
   ]
  },
  {
   "cell_type": "code",
   "execution_count": null,
   "id": "d028a506",
   "metadata": {},
   "outputs": [
    {
     "name": "stdout",
     "output_type": "stream",
     "text": [
      "6\n",
      "-4\n"
     ]
    }
   ],
   "source": [
    "# Custom made module and package\n",
    "from package.calculate import addition,subtraction\n",
    "# from package.calculate import *\n",
    "x = 1\n",
    "y = 5\n",
    "print(addition(x,y))\n",
    "print(subtraction(x,y))"
   ]
  }
 ],
 "metadata": {
  "kernelspec": {
   "display_name": "Python 3",
   "language": "python",
   "name": "python3"
  },
  "language_info": {
   "codemirror_mode": {
    "name": "ipython",
    "version": 3
   },
   "file_extension": ".py",
   "mimetype": "text/x-python",
   "name": "python",
   "nbconvert_exporter": "python",
   "pygments_lexer": "ipython3",
   "version": "3.10.0"
  }
 },
 "nbformat": 4,
 "nbformat_minor": 5
}

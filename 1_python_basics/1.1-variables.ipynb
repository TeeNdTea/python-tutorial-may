{
 "cells": [
  {
   "cell_type": "markdown",
   "id": "4e4b4df7",
   "metadata": {},
   "source": [
    "## Variables in Python\n",
    "Class Outline:\n",
    "- Variables\n",
    "- Type Conversion\n",
    "- Dynamic Typing\n",
    "- Input\n",
    "- Problem\n"
   ]
  },
  {
   "cell_type": "markdown",
   "id": "9f901b67",
   "metadata": {},
   "source": [
    "# Declaring - Assigning - Printing Variables"
   ]
  },
  {
   "cell_type": "code",
   "execution_count": 2,
   "id": "23ea9f1e",
   "metadata": {},
   "outputs": [
    {
     "name": "stdout",
     "output_type": "stream",
     "text": [
      "Name:  Draco\n",
      "Age:  18\n",
      "Points Earned:  45.5\n"
     ]
    }
   ],
   "source": [
    "name = 'Draco'\n",
    "age = 18\n",
    "points = 45.5\n",
    "is_student = True\n",
    "\n",
    "# printing variables\n",
    "\n",
    "print('Name: ',name)\n",
    "print('Age: ',age )\n",
    "print('Points Earned: ',points)"
   ]
  },
  {
   "cell_type": "markdown",
   "id": "0bd8fa40",
   "metadata": {},
   "source": [
    "## Type Checking & Conversion"
   ]
  },
  {
   "cell_type": "code",
   "execution_count": null,
   "id": "da205197",
   "metadata": {},
   "outputs": [
    {
     "name": "stdout",
     "output_type": "stream",
     "text": [
      "<class 'float'>\n"
     ]
    }
   ],
   "source": [
    "height = 5.5\n",
    "type(height)\n",
    "print(type(height))"
   ]
  },
  {
   "cell_type": "code",
   "execution_count": 5,
   "id": "3288305e",
   "metadata": {},
   "outputs": [
    {
     "name": "stdout",
     "output_type": "stream",
     "text": [
      "<class 'int'>\n",
      "30\n",
      "<class 'str'>\n"
     ]
    }
   ],
   "source": [
    "# Type Conversion\n",
    "age = 30\n",
    "print(type(age))\n",
    "\n",
    "new_age = str(age)\n",
    "print(new_age)\n",
    "print(type(new_age))"
   ]
  },
  {
   "cell_type": "code",
   "execution_count": null,
   "id": "40c40e07",
   "metadata": {},
   "outputs": [
    {
     "name": "stdout",
     "output_type": "stream",
     "text": [
      "<class 'int'>\n"
     ]
    },
    {
     "data": {
      "text/plain": [
       "55.0"
      ]
     },
     "execution_count": 12,
     "metadata": {},
     "output_type": "execute_result"
    }
   ],
   "source": [
    "ID = '12345'\n",
    "print(type(int(ID)))\n",
    "\n",
    "# name = 'Draco'\n",
    "# int(name)  [Value Error]\n",
    "\n",
    "points = 55.7\n",
    "float(int(points))"
   ]
  },
  {
   "cell_type": "code",
   "execution_count": 13,
   "id": "627942b1",
   "metadata": {},
   "outputs": [
    {
     "name": "stdout",
     "output_type": "stream",
     "text": [
      "50 <class 'int'>\n",
      "Hello <class 'str'>\n",
      "3.1415 <class 'float'>\n"
     ]
    }
   ],
   "source": [
    "# Python allows the type of a variable to change as the program executes\n",
    "a = 50\n",
    "print(a,type(a))\n",
    "\n",
    "a = \"Hello\"\n",
    "print(a,type(a))\n",
    "\n",
    "a = 3.1415\n",
    "print(a,type(a))"
   ]
  },
  {
   "cell_type": "markdown",
   "id": "1ff0c95a",
   "metadata": {},
   "source": [
    "## Input"
   ]
  },
  {
   "cell_type": "code",
   "execution_count": 16,
   "id": "a4d0b338",
   "metadata": {},
   "outputs": [
    {
     "name": "stdout",
     "output_type": "stream",
     "text": [
      "26 <class 'int'>\n"
     ]
    }
   ],
   "source": [
    "age = int(input('What is your age?'))\n",
    "print(age,type(age))"
   ]
  },
  {
   "cell_type": "markdown",
   "id": "94e92739",
   "metadata": {},
   "source": [
    "## Project"
   ]
  },
  {
   "cell_type": "code",
   "execution_count": 17,
   "id": "903ab3af",
   "metadata": {},
   "outputs": [
    {
     "name": "stdout",
     "output_type": "stream",
     "text": [
      "Sum =  15.0\n",
      "Difference =  5.0\n",
      "Product =  50.0\n",
      "Quotient =  2.0\n"
     ]
    }
   ],
   "source": [
    "# Simple Calculator\n",
    "\n",
    "num1 = float(input('Enter the first number: '))\n",
    "num2 = float(input('Enter the second number: '))\n",
    "\n",
    "sum = num1 + num2\n",
    "difference = num1 - num2\n",
    "product = num1 * num2\n",
    "quotient = num1 / num2\n",
    "\n",
    "print('Sum = ',sum)\n",
    "print('Difference = ',difference)\n",
    "print('Product = ',product)\n",
    "print('Quotient = ',quotient)"
   ]
  }
 ],
 "metadata": {
  "kernelspec": {
   "display_name": "Python 3",
   "language": "python",
   "name": "python3"
  },
  "language_info": {
   "codemirror_mode": {
    "name": "ipython",
    "version": 3
   },
   "file_extension": ".py",
   "mimetype": "text/x-python",
   "name": "python",
   "nbconvert_exporter": "python",
   "pygments_lexer": "ipython3",
   "version": "3.10.0"
  }
 },
 "nbformat": 4,
 "nbformat_minor": 5
}

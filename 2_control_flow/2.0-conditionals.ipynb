{
 "cells": [
  {
   "cell_type": "markdown",
   "id": "fdf5e58a",
   "metadata": {},
   "source": [
    "## if-else-elif in python\n",
    "### Class Outline:\n",
    "- if statement\n",
    "- else statement\n",
    "- elif statement\n",
    "- Nested conditionals\n",
    "- practices"
   ]
  },
  {
   "cell_type": "markdown",
   "id": "f23d0873",
   "metadata": {},
   "source": [
    "#### Problem- \n",
    "A person aged 18 or above can vote only. Determine Eligibility."
   ]
  },
  {
   "cell_type": "code",
   "execution_count": 4,
   "id": "e13abcd6",
   "metadata": {},
   "outputs": [
    {
     "name": "stdout",
     "output_type": "stream",
     "text": [
      "Eligible! Can Vote\n"
     ]
    }
   ],
   "source": [
    "age = 84\n",
    "if age >= 18:\n",
    "    print(\"Eligible! Can Vote\")\n",
    "else:\n",
    "    print(\"Not Eligible\")"
   ]
  },
  {
   "cell_type": "markdown",
   "id": "1ef5c49a",
   "metadata": {},
   "source": [
    "#### Problem-\n",
    "Check if the candidate is a child, teenager or adult"
   ]
  },
  {
   "cell_type": "code",
   "execution_count": 6,
   "id": "ae8e49a7",
   "metadata": {},
   "outputs": [
    {
     "name": "stdout",
     "output_type": "stream",
     "text": [
      "Adult\n"
     ]
    }
   ],
   "source": [
    "age = 27\n",
    "if age <= 13:\n",
    "    print('Child')\n",
    "elif age < 19:\n",
    "    print('Teenager')\n",
    "else: \n",
    "    print('Adult')"
   ]
  },
  {
   "cell_type": "markdown",
   "id": "b2211798",
   "metadata": {},
   "source": [
    "### Nested Conditional Statement\n",
    "\n",
    "#### Problem- \n",
    "Check if the given number is even, odd & negative"
   ]
  },
  {
   "cell_type": "code",
   "execution_count": 8,
   "id": "dd67a798",
   "metadata": {},
   "outputs": [
    {
     "name": "stdout",
     "output_type": "stream",
     "text": [
      "Negative\n"
     ]
    }
   ],
   "source": [
    "# num = int(input('Enter a number: '))\n",
    "num = -5\n",
    "if num >= 0:\n",
    "    print('Positive')\n",
    "    if num % 2 == 0:\n",
    "        print('Even')\n",
    "    else:\n",
    "        print('Odd')\n",
    "else:\n",
    "    print('Negative')"
   ]
  },
  {
   "cell_type": "markdown",
   "id": "2927c92a",
   "metadata": {},
   "source": [
    "#### Problem-\n",
    "Determine wether a year is a leap year or not using nested conditionals "
   ]
  },
  {
   "cell_type": "code",
   "execution_count": 18,
   "id": "16771b1e",
   "metadata": {},
   "outputs": [
    {
     "name": "stdout",
     "output_type": "stream",
     "text": [
      "2024 is a Leap Year\n"
     ]
    }
   ],
   "source": [
    "year = 2024\n",
    "\n",
    "if year % 4 == 0:\n",
    "    if year % 100 == 0:\n",
    "        if year % 400 == 0:\n",
    "            print(year,\"is a leap Year\")\n",
    "        else:\n",
    "            print(\"Not a Leap Year\")\n",
    "    else:\n",
    "        print(year,\"is a Leap Year\")\n",
    "else: \n",
    "    print(\"Not a Leap Year\")"
   ]
  },
  {
   "cell_type": "markdown",
   "id": "9485296e",
   "metadata": {},
   "source": [
    "#### Problem-\n",
    "Build a simple calculator"
   ]
  },
  {
   "cell_type": "code",
   "execution_count": null,
   "id": "e601d9e6",
   "metadata": {},
   "outputs": [
    {
     "name": "stdout",
     "output_type": "stream",
     "text": [
      "Result:  Invalid Operation!!\n"
     ]
    }
   ],
   "source": [
    "a = float(input('Enter first number:'))\n",
    "b = float(input('Enter second number:'))\n",
    "operation = input('Enter symbols (+ - * / **)')\n",
    "\n",
    "if operation == '+':\n",
    "    res = a + b\n",
    "elif operation == '-':\n",
    "    res = a - b\n",
    "elif operation == '*':\n",
    "    res = a * b\n",
    "elif operation == '/':\n",
    "    if b != 0:\n",
    "        res = a / b\n",
    "    else:\n",
    "        print('Invalid! Divided by 0')\n",
    "elif operation == '**':\n",
    "    res = a ** b\n",
    "else:\n",
    "    # print(\"Invalid Opereattion\")\n",
    "    res = \"Invalid Operation!!\"\n",
    "print('Result:',res)"
   ]
  },
  {
   "cell_type": "markdown",
   "id": "f8731157",
   "metadata": {},
   "source": [
    "### Problem-\n",
    "Determine the ticket price based on age and wether the person is a student.\n",
    "Ticket pricing based on age and student status"
   ]
  },
  {
   "cell_type": "code",
   "execution_count": 25,
   "id": "ddd562b0",
   "metadata": {},
   "outputs": [
    {
     "name": "stdout",
     "output_type": "stream",
     "text": [
      "Ticket Price: $12\n"
     ]
    }
   ],
   "source": [
    "age = int(input('Enter your age:'))\n",
    "is_student = input('Are you a student? (y/n):').lower()\n",
    "\n",
    "if age < 5:\n",
    "    price = 'Free'\n",
    "elif age <= 12:\n",
    "    price = '$10'\n",
    "elif age <= 17:\n",
    "    if is_student == 'yes' or is_student == 'y':\n",
    "        price = '$12'\n",
    "    else:\n",
    "        price = '$15'\n",
    "elif age <= 64:\n",
    "    if is_student == 'yes' or is_student == 'y':\n",
    "        price = '$18'\n",
    "    else:\n",
    "        price = '$25'\n",
    "else:\n",
    "    price = '$20'\n",
    "\n",
    "print('Ticket Price:',price)\n",
    "    "
   ]
  }
 ],
 "metadata": {
  "kernelspec": {
   "display_name": "Python 3",
   "language": "python",
   "name": "python3"
  },
  "language_info": {
   "codemirror_mode": {
    "name": "ipython",
    "version": 3
   },
   "file_extension": ".py",
   "mimetype": "text/x-python",
   "name": "python",
   "nbconvert_exporter": "python",
   "pygments_lexer": "ipython3",
   "version": "3.10.0"
  }
 },
 "nbformat": 4,
 "nbformat_minor": 5
}

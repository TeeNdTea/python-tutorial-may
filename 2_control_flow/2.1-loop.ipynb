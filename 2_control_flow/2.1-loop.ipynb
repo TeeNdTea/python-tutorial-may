{
 "cells": [
  {
   "cell_type": "markdown",
   "id": "4db8713b",
   "metadata": {},
   "source": [
    "## Loops in python\n",
    "### Class Outline:\n",
    "- Types of Loop\n",
    "    - For\n",
    "    - while\n",
    "    - do while\n",
    "- loop control statement\n",
    "- nested loop\n",
    "- Problems"
   ]
  },
  {
   "cell_type": "markdown",
   "id": "794583cb",
   "metadata": {},
   "source": [
    "### for loop\n",
    "- iterating over a string\n",
    "- iterating over range"
   ]
  },
  {
   "cell_type": "code",
   "execution_count": 5,
   "id": "20c034f8",
   "metadata": {},
   "outputs": [
    {
     "name": "stdout",
     "output_type": "stream",
     "text": [
      "0 1 2 3 4 "
     ]
    }
   ],
   "source": [
    "# range(start,stop,step)\n",
    "for i in range(5):\n",
    "    print(i, end=\" \")"
   ]
  },
  {
   "cell_type": "code",
   "execution_count": 2,
   "id": "26319141",
   "metadata": {},
   "outputs": [
    {
     "name": "stdout",
     "output_type": "stream",
     "text": [
      "H o l l y   M a n d y "
     ]
    }
   ],
   "source": [
    "# Traversing letters in a string\n",
    "my_str = 'Holly Mandy'\n",
    "\n",
    "for i in my_str:\n",
    "    print(i , end=\" \")"
   ]
  },
  {
   "cell_type": "markdown",
   "id": "d2ed20c7",
   "metadata": {},
   "source": [
    "### While loop\n",
    "The while loop continues to execute as long as the condition is True"
   ]
  },
  {
   "cell_type": "code",
   "execution_count": 5,
   "id": "f865f7dd",
   "metadata": {},
   "outputs": [
    {
     "name": "stdout",
     "output_type": "stream",
     "text": [
      "0\n"
     ]
    }
   ],
   "source": [
    "count = 0\n",
    "# while count < 5:\n",
    "#     print(count, end = \" \")\n",
    "#     count = count + 1\n",
    "\n",
    "while count % 2 == 0:\n",
    "    print(count)\n",
    "    count += 1"
   ]
  },
  {
   "cell_type": "markdown",
   "id": "e1ccc5b6",
   "metadata": {},
   "source": [
    "### Loop Control Statement\n",
    "- break\n",
    "- continue\n",
    "- pass"
   ]
  },
  {
   "cell_type": "code",
   "execution_count": 10,
   "id": "69a9171c",
   "metadata": {},
   "outputs": [
    {
     "name": "stdout",
     "output_type": "stream",
     "text": [
      "0 1 2 3 4 "
     ]
    }
   ],
   "source": [
    "# Break - exits the loop \n",
    "# for i in range(10):\n",
    "#     if i == 5:\n",
    "#         break\n",
    "#     print(i, end=\" \") \n",
    "\n",
    "# continue - skips the current iteration and continue with the next\n",
    "# for i in range(10):\n",
    "#     if i%2 == 0:\n",
    "#         continue\n",
    "#     print(i, end=\" \")\n",
    "\n",
    "# pass - a null operation which does nothing\n",
    "for i in range(5):\n",
    "    if i == 3:\n",
    "        pass\n",
    "    print(i, end=\" \")"
   ]
  },
  {
   "cell_type": "markdown",
   "id": "59e8798c",
   "metadata": {},
   "source": [
    "### Nested Loops"
   ]
  },
  {
   "cell_type": "code",
   "execution_count": 14,
   "id": "9892b232",
   "metadata": {},
   "outputs": [
    {
     "name": "stdout",
     "output_type": "stream",
     "text": [
      "i:0 and j:0\n",
      "i:0 and j:1\n",
      "i:0 and j:2\n",
      "i:0 and j:3\n",
      "i:1 and j:0\n",
      "i:1 and j:1\n",
      "i:1 and j:2\n",
      "i:1 and j:3\n"
     ]
    }
   ],
   "source": [
    "for i in range(2):\n",
    "    for j in range(4):\n",
    "        print(f\"i:{i} and j:{j}\")"
   ]
  },
  {
   "cell_type": "markdown",
   "id": "b2860242",
   "metadata": {},
   "source": [
    "### Practice \n",
    "1. sum of natural numbers using while loop\n",
    "2. prime numbers between 1 to 100"
   ]
  },
  {
   "cell_type": "code",
   "execution_count": null,
   "id": "f10920f7",
   "metadata": {},
   "outputs": [
    {
     "name": "stdout",
     "output_type": "stream",
     "text": [
      "10\n"
     ]
    }
   ],
   "source": [
    "# sum = 0\n",
    "# count = 1\n",
    "# n = int(input(\"Enter a numer:\"))\n",
    "# while count <= n:\n",
    "#     sum += count\n",
    "#     count += 1\n",
    "# print(sum)\n",
    "\n",
    "sum = 0\n",
    "n = int(input(\"Enter a numer:\"))\n",
    "for i in range(n + 1):\n",
    "    sum += i\n",
    "print(sum)\n"
   ]
  },
  {
   "cell_type": "code",
   "execution_count": 29,
   "id": "629006da",
   "metadata": {},
   "outputs": [
    {
     "name": "stdout",
     "output_type": "stream",
     "text": [
      "2 3 5 7 11 13 17 19 23 29 31 37 41 43 47 53 59 61 67 71 73 79 83 89 97 "
     ]
    }
   ],
   "source": [
    "#2 Numbers which are divisible by 1 and itself!\n",
    "for num in range(1,101):\n",
    "    if num > 1:\n",
    "        for i in range(2,num):\n",
    "            if num % i == 0:\n",
    "                break\n",
    "        else:\n",
    "            print(num, end=\" \")"
   ]
  }
 ],
 "metadata": {
  "kernelspec": {
   "display_name": "Python 3",
   "language": "python",
   "name": "python3"
  },
  "language_info": {
   "codemirror_mode": {
    "name": "ipython",
    "version": 3
   },
   "file_extension": ".py",
   "mimetype": "text/x-python",
   "name": "python",
   "nbconvert_exporter": "python",
   "pygments_lexer": "ipython3",
   "version": "3.10.0"
  }
 },
 "nbformat": 4,
 "nbformat_minor": 5
}

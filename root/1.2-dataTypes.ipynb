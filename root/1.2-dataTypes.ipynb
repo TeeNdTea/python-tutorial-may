{
 "cells": [
  {
   "cell_type": "markdown",
   "id": "08ae52f6",
   "metadata": {},
   "source": [
    "## Data Types in Python\n",
    "### Class Outline:\n",
    "- Data types classification\n",
    "- Common Errors"
   ]
  },
  {
   "cell_type": "markdown",
   "id": "6be7a0d1",
   "metadata": {},
   "source": [
    "## Data Types\n",
    "### Basic Data Types:\n",
    "- Integer\n",
    "- Float\n",
    "- String\n",
    "- Boolean\n",
    "### Advance Data Types:\n",
    "- List\n",
    "- Tuple\n",
    "- Set\n",
    "- Dictionary"
   ]
  },
  {
   "cell_type": "code",
   "execution_count": null,
   "id": "654f1341",
   "metadata": {},
   "outputs": [
    {
     "data": {
      "text/plain": [
       "bool"
      ]
     },
     "execution_count": 9,
     "metadata": {},
     "output_type": "execute_result"
    }
   ],
   "source": [
    "# Integer Example\n",
    "# age = 20\n",
    "# type(age)\n",
    "\n",
    "# Float Example\n",
    "# height = 5.5\n",
    "# type(height)\n",
    "\n",
    "# String Example\n",
    "# name = 'Draco'\n",
    "# type(name)\n",
    "\n",
    "# Boolean Example\n",
    "# is_present = True\n",
    "# type(is_present)\n",
    "a = 20\n",
    "b = 60\n",
    "type(a == b)"
   ]
  },
  {
   "cell_type": "markdown",
   "id": "aab66dcd",
   "metadata": {},
   "source": [
    "## Common Errors"
   ]
  },
  {
   "cell_type": "code",
   "execution_count": 10,
   "id": "e7f1b2f4",
   "metadata": {},
   "outputs": [
    {
     "ename": "TypeError",
     "evalue": "can only concatenate str (not \"int\") to str",
     "output_type": "error",
     "traceback": [
      "\u001b[1;31m---------------------------------------------------------------------------\u001b[0m",
      "\u001b[1;31mTypeError\u001b[0m                                 Traceback (most recent call last)",
      "Cell \u001b[1;32mIn[10], line 1\u001b[0m\n\u001b[1;32m----> 1\u001b[0m res \u001b[38;5;241m=\u001b[39m \u001b[38;5;124;43m'\u001b[39;49m\u001b[38;5;124;43mHello\u001b[39;49m\u001b[38;5;124;43m'\u001b[39;49m\u001b[43m \u001b[49m\u001b[38;5;241;43m+\u001b[39;49m\u001b[43m \u001b[49m\u001b[38;5;241;43m5\u001b[39;49m\n",
      "\u001b[1;31mTypeError\u001b[0m: can only concatenate str (not \"int\") to str"
     ]
    }
   ],
   "source": [
    "res = 'Hello' + 5"
   ]
  },
  {
   "cell_type": "code",
   "execution_count": 11,
   "id": "fb9bd658",
   "metadata": {},
   "outputs": [
    {
     "name": "stdout",
     "output_type": "stream",
     "text": [
      "Hello5\n"
     ]
    }
   ],
   "source": [
    "res = 'Hello' + str(5) # type casting\n",
    "print(res)"
   ]
  }
 ],
 "metadata": {
  "kernelspec": {
   "display_name": "Python 3",
   "language": "python",
   "name": "python3"
  },
  "language_info": {
   "codemirror_mode": {
    "name": "ipython",
    "version": 3
   },
   "file_extension": ".py",
   "mimetype": "text/x-python",
   "name": "python",
   "nbconvert_exporter": "python",
   "pygments_lexer": "ipython3",
   "version": "3.10.0"
  }
 },
 "nbformat": 4,
 "nbformat_minor": 5
}

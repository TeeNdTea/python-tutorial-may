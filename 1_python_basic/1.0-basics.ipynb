{
 "cells": [
  {
   "cell_type": "markdown",
   "id": "db20ebf6",
   "metadata": {},
   "source": [
    "## Syntax and Semantics in Python\n",
    "class outline:\n",
    "- Comment\n",
    "- Syntax\n",
    "- Variable Naming"
   ]
  },
  {
   "cell_type": "code",
   "execution_count": null,
   "id": "94e80834",
   "metadata": {},
   "outputs": [
    {
     "name": "stdout",
     "output_type": "stream",
     "text": [
      "Lily\n",
      "Bloom\n"
     ]
    }
   ],
   "source": [
    "## Basic Syntax Rules in Python\n",
    "## Case Sensitivity - python is case sensitive\n",
    "name = \"Lily\" \n",
    "Name = \"Bloom\"\n",
    "\n",
    "print(name)\n",
    "print(Name)"
   ]
  },
  {
   "cell_type": "markdown",
   "id": "1c64baa1",
   "metadata": {},
   "source": [
    "# Indentation-\n",
    "1. tab or 4 spaces\n",
    "2. 1 space atlest"
   ]
  },
  {
   "cell_type": "code",
   "execution_count": 4,
   "id": "d9aaea37",
   "metadata": {},
   "outputs": [
    {
     "name": "stdout",
     "output_type": "stream",
     "text": [
      "Eligible\n"
     ]
    }
   ],
   "source": [
    "age = 20\n",
    "if age < 30:\n",
    "    print(\"Eligible\")   "
   ]
  },
  {
   "cell_type": "markdown",
   "id": "966c5b26",
   "metadata": {},
   "source": [
    "# Line continuation-\n",
    "When the line keeps getting longer, we can break through '\\' and start writing on next line"
   ]
  },
  {
   "cell_type": "code",
   "execution_count": 5,
   "id": "941435c0",
   "metadata": {},
   "outputs": [
    {
     "name": "stdout",
     "output_type": "stream",
     "text": [
      "55\n"
     ]
    }
   ],
   "source": [
    "sum = 1 + 2 + 3 + 4 + 5 + \\\n",
    "    6 + 7 + 8 + 9 + 10\n",
    "\n",
    "print(sum)"
   ]
  },
  {
   "cell_type": "markdown",
   "id": "4d9d8d27",
   "metadata": {},
   "source": [
    "# Multiple Statements on a single line"
   ]
  },
  {
   "cell_type": "code",
   "execution_count": 6,
   "id": "20c8ef17",
   "metadata": {},
   "outputs": [
    {
     "name": "stdout",
     "output_type": "stream",
     "text": [
      "8\n"
     ]
    }
   ],
   "source": [
    "x = 5; y = 3; z = x + y\n",
    "print(z)"
   ]
  },
  {
   "cell_type": "markdown",
   "id": "14034422",
   "metadata": {},
   "source": [
    "## Variable naming\n",
    "1. They must begin with a letter (a-z, A-Z) or an underscore (_).\n",
    "2. Subsequent characters can be letters, numbers (0-9), or underscores.\n",
    "3. Variable names are case-sensitive :\n",
    "    - Camel Case: \"myVariableName\" - Starts with a lowercase letter and capitalizes the first letter of each subsequent word. \n",
    "    - Snake Case: \"my_variable_name\" - Separates words with underscores, all lowercase. \n",
    "    - Pascal Case: \"MyVariableName\" - Capitalizes the first letter of every word. "
   ]
  },
  {
   "cell_type": "code",
   "execution_count": null,
   "id": "d935fa60",
   "metadata": {},
   "outputs": [
    {
     "data": {
      "text/plain": [
       "float"
      ]
     },
     "execution_count": 9,
     "metadata": {},
     "output_type": "execute_result"
    }
   ],
   "source": [
    "age = 20\n",
    "name = \"Lily\"\n",
    "cgpa = 3.45\n",
    "\n",
    "# type(name)\n",
    "# type(age)\n",
    "type(cgpa)"
   ]
  },
  {
   "cell_type": "code",
   "execution_count": 11,
   "id": "bc830abd",
   "metadata": {},
   "outputs": [
    {
     "name": "stdout",
     "output_type": "stream",
     "text": [
      "<class 'int'>\n",
      "<class 'str'>\n"
     ]
    }
   ],
   "source": [
    "# Type Inference\n",
    "var = 10\n",
    "print(type(var))\n",
    "var = 'Lily'\n",
    "print(type(var))"
   ]
  },
  {
   "cell_type": "code",
   "execution_count": 10,
   "id": "d1881266",
   "metadata": {},
   "outputs": [
    {
     "name": "stdout",
     "output_type": "stream",
     "text": [
      "Correct Indentation\n",
      "Now this will work\n",
      "Outside if block\n"
     ]
    }
   ],
   "source": [
    "## Code examples of indentation\n",
    "if True:\n",
    "    print(\"Correct Indentation\")\n",
    "    if False:\n",
    "        print(\"This Line Wont Work\")\n",
    "    print(\"Now this will work\")\n",
    "print(\"Outside if block\")"
   ]
  }
 ],
 "metadata": {
  "kernelspec": {
   "display_name": "Python 3",
   "language": "python",
   "name": "python3"
  },
  "language_info": {
   "codemirror_mode": {
    "name": "ipython",
    "version": 3
   },
   "file_extension": ".py",
   "mimetype": "text/x-python",
   "name": "python",
   "nbconvert_exporter": "python",
   "pygments_lexer": "ipython3",
   "version": "3.10.0"
  }
 },
 "nbformat": 4,
 "nbformat_minor": 5
}

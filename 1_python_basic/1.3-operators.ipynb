{
 "cells": [
  {
   "cell_type": "markdown",
   "id": "bc00defc",
   "metadata": {},
   "source": [
    "## Operators in Python\n",
    "### Class Outline:\n",
    "- Types of Operators"
   ]
  },
  {
   "cell_type": "markdown",
   "id": "750b3617",
   "metadata": {},
   "source": [
    "### Arithmatic Operators\n",
    "- Addition\n",
    "- Subtraction \n",
    "- Multiplication\n",
    "- Division\n",
    "- Floor Division\n",
    "- Modulus\n",
    "- Exponential\n",
    "### Comparison Operators\n",
    "- Equal to \n",
    "- Not Equal to \n",
    "- Greater than \n",
    "- Less than\n",
    "- Greater than or equal to\n",
    "- Less than or equal to\n",
    "### Logical Operators\n",
    "- AND\n",
    "- OR\n",
    "- NOT"
   ]
  },
  {
   "cell_type": "code",
   "execution_count": 4,
   "id": "d9c15ce0",
   "metadata": {},
   "outputs": [
    {
     "name": "stdout",
     "output_type": "stream",
     "text": [
      "10\n",
      "4\n",
      "21\n",
      "2.3333333333333335\n",
      "2\n",
      "1\n",
      "2187\n"
     ]
    }
   ],
   "source": [
    "# Arithmatic Operations\n",
    "a = 7\n",
    "b = 3\n",
    "sum = a + b\n",
    "difference = a - b\n",
    "product = a * b\n",
    "quotient = a / b\n",
    "floor = a // b\n",
    "modulus = a % b\n",
    "expo = b ** a\n",
    "print (sum)\n",
    "print(difference)\n",
    "print(product)\n",
    "print(quotient)\n",
    "print(floor)\n",
    "print(modulus)\n",
    "print(expo)"
   ]
  },
  {
   "cell_type": "code",
   "execution_count": null,
   "id": "309318a1",
   "metadata": {},
   "outputs": [
    {
     "data": {
      "text/plain": [
       "True"
      ]
     },
     "execution_count": 15,
     "metadata": {},
     "output_type": "execute_result"
    }
   ],
   "source": [
    "# Comparison Operators\n",
    "# x = 10\n",
    "# y = 10\n",
    "# x == y\n",
    "\n",
    "# str1 = 'Hello'\n",
    "# str2 = 'hello'\n",
    "# str1 == str2\n",
    "\n",
    "# x = 23\n",
    "# y = 31\n",
    "# x != y\n",
    "\n",
    "# x = 22\n",
    "# y = 19\n",
    "# x > y\n",
    "# x < y\n",
    "# x >= y\n",
    "# x <= y\n"
   ]
  },
  {
   "cell_type": "code",
   "execution_count": 25,
   "id": "4c3033fb",
   "metadata": {},
   "outputs": [
    {
     "data": {
      "text/plain": [
       "False"
      ]
     },
     "execution_count": 25,
     "metadata": {},
     "output_type": "execute_result"
    }
   ],
   "source": [
    "# Logical Operator\n",
    "## AND - both True then True\n",
    "# m = True\n",
    "# n = True\n",
    "# n = False\n",
    "# res = m and n\n",
    "# print(res)\n",
    "\n",
    "## OR - both False then False\n",
    "# m = True\n",
    "# m = False\n",
    "# n = False\n",
    "# res = m or n\n",
    "# print(res)\n",
    "\n",
    "## NOT - Reverse of Boolean Variable\n",
    "X = True\n",
    "not X"
   ]
  }
 ],
 "metadata": {
  "kernelspec": {
   "display_name": "Python 3",
   "language": "python",
   "name": "python3"
  },
  "language_info": {
   "codemirror_mode": {
    "name": "ipython",
    "version": 3
   },
   "file_extension": ".py",
   "mimetype": "text/x-python",
   "name": "python",
   "nbconvert_exporter": "python",
   "pygments_lexer": "ipython3",
   "version": "3.10.0"
  }
 },
 "nbformat": 4,
 "nbformat_minor": 5
}

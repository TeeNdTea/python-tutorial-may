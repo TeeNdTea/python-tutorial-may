{
 "cells": [
  {
   "cell_type": "markdown",
   "id": "09d6ed9b",
   "metadata": {},
   "source": [
    "## Introduction to filter()"
   ]
  },
  {
   "cell_type": "code",
   "execution_count": 5,
   "id": "b457e9ff",
   "metadata": {},
   "outputs": [
    {
     "data": {
      "text/plain": [
       "[2, 4, 6, 8]"
      ]
     },
     "execution_count": 5,
     "metadata": {},
     "output_type": "execute_result"
    }
   ],
   "source": [
    "def even(x):\n",
    "    if x%2 == 0:\n",
    "        return True\n",
    "lst = [1,2,3,4,5,6,7,8,9]\n",
    "list(filter(even,lst))"
   ]
  },
  {
   "cell_type": "code",
   "execution_count": 6,
   "id": "e2535b2f",
   "metadata": {},
   "outputs": [
    {
     "name": "stdout",
     "output_type": "stream",
     "text": [
      "[34, 90]\n"
     ]
    }
   ],
   "source": [
    "num = [21,34,75,90,61]\n",
    "even = list(filter(lambda n : n%2 == 0,num))\n",
    "print(even)"
   ]
  },
  {
   "cell_type": "code",
   "execution_count": null,
   "id": "88337139",
   "metadata": {},
   "outputs": [
    {
     "name": "stdout",
     "output_type": "stream",
     "text": [
      "[5, 6, 7, 8, 9, 10]\n"
     ]
    }
   ],
   "source": [
    "# Function Greater Than or equal to 5\n",
    "num1 = [1,2,3,4,5,6,7,8,9,0,10]\n",
    "ans = list(filter(lambda x:x>=5,num1))\n",
    "print(ans)"
   ]
  },
  {
   "cell_type": "code",
   "execution_count": 8,
   "id": "19328a0a",
   "metadata": {},
   "outputs": [
    {
     "name": "stdout",
     "output_type": "stream",
     "text": [
      "[6, 8, 10]\n"
     ]
    }
   ],
   "source": [
    "# Multiple Conditions\n",
    "# even and greater than 5\n",
    "a = [1,2,3,4,5,6,7,8,9,0,10]\n",
    "ans = list(filter(lambda q:q>=5 and q%2==0,a))\n",
    "print(ans)\n"
   ]
  },
  {
   "cell_type": "code",
   "execution_count": null,
   "id": "9d9f2025",
   "metadata": {},
   "outputs": [
    {
     "name": "stdout",
     "output_type": "stream",
     "text": [
      "[{'name': 'Juvee', 'age': 20, 'height': 5.5}, {'name': 'Jhohan', 'age': 18, 'height': 5.1}]\n"
     ]
    }
   ],
   "source": [
    "# Filter in dictionary\n",
    "def get_name(person):\n",
    "    return person['height'] < 6.0\n",
    "person = [\n",
    "    {'name':'Jhon','age':24,'height':6.0},\n",
    "    {'name':'Juvee','age':20,'height':5.5},\n",
    "    {'name':'Jhohan','age':18,'height':5.10}\n",
    "]\n",
    "res = list(filter(get_name,person))\n",
    "print(res)"
   ]
  }
 ],
 "metadata": {
  "kernelspec": {
   "display_name": "Python 3",
   "language": "python",
   "name": "python3"
  },
  "language_info": {
   "codemirror_mode": {
    "name": "ipython",
    "version": 3
   },
   "file_extension": ".py",
   "mimetype": "text/x-python",
   "name": "python",
   "nbconvert_exporter": "python",
   "pygments_lexer": "ipython3",
   "version": "3.10.0"
  }
 },
 "nbformat": 4,
 "nbformat_minor": 5
}

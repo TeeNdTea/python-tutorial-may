{
 "cells": [
  {
   "cell_type": "markdown",
   "id": "a3d8e140",
   "metadata": {},
   "source": [
    "## Intrtoduction to Lambda Function\n",
    "\n",
    "* Lambda Function - a small, anonymous function defined using lambda keyword. They can have any number of arguments but only one expression. They are commonly used for short operations or as arguments to higher order function\n",
    "anonymous function - a function without a name\n"
   ]
  },
  {
   "cell_type": "code",
   "execution_count": null,
   "id": "8e9df074",
   "metadata": {},
   "outputs": [],
   "source": [
    "# Syntax\n",
    "lambda arguments : one_expression"
   ]
  },
  {
   "cell_type": "code",
   "execution_count": 1,
   "id": "b924f1bd",
   "metadata": {},
   "outputs": [
    {
     "data": {
      "text/plain": [
       "5"
      ]
     },
     "execution_count": 1,
     "metadata": {},
     "output_type": "execute_result"
    }
   ],
   "source": [
    "def addition(a,b):\n",
    "    return a+b\n",
    "addition(2,3)"
   ]
  },
  {
   "cell_type": "code",
   "execution_count": null,
   "id": "fd48c6fd",
   "metadata": {},
   "outputs": [
    {
     "name": "stdout",
     "output_type": "stream",
     "text": [
      "10\n"
     ]
    },
    {
     "data": {
      "text/plain": [
       "function"
      ]
     },
     "execution_count": 3,
     "metadata": {},
     "output_type": "execute_result"
    }
   ],
   "source": [
    "# Convert cell 2 to lambda function\n",
    "add = lambda a,b : a+b\n",
    "print(add(5,5))\n",
    "type(add)"
   ]
  },
  {
   "cell_type": "markdown",
   "id": "83b8e6d2",
   "metadata": {},
   "source": [
    "### Map( ) \n",
    "applies a function to all items in the list\n",
    "#### Syntax- map (functions,iterables)"
   ]
  },
  {
   "cell_type": "code",
   "execution_count": 4,
   "id": "d45dd7f2",
   "metadata": {},
   "outputs": [
    {
     "data": {
      "text/plain": [
       "4"
      ]
     },
     "execution_count": 4,
     "metadata": {},
     "output_type": "execute_result"
    }
   ],
   "source": [
    "def square(num):\n",
    "    return num ** 2\n",
    "square(2)"
   ]
  },
  {
   "cell_type": "code",
   "execution_count": null,
   "id": "4c06e10c",
   "metadata": {},
   "outputs": [
    {
     "data": {
      "text/plain": [
       "[1, 4, 9]"
      ]
     },
     "execution_count": 11,
     "metadata": {},
     "output_type": "execute_result"
    }
   ],
   "source": [
    "# To square a list of numbers\n",
    "\n",
    "def my_list(num_list):\n",
    "    for i in num_list:\n",
    "        print(i**2, end=\" \") # for separate values\n",
    "my_list([1,2,3])\n",
    "\n",
    "def my_list(num_list):\n",
    "    res = []\n",
    "    for i in num_list:\n",
    "        res.append(i**2) # for printing in list\n",
    "    return res\n",
    "my_list([1,2,3])\n",
    "\n",
    "def my_list(num_list):\n",
    "    return ([i**2 for i in num_list]) # using list comprehension\n",
    "my_list([1,2,3])"
   ]
  },
  {
   "cell_type": "code",
   "execution_count": null,
   "id": "10584240",
   "metadata": {},
   "outputs": [
    {
     "data": {
      "text/plain": [
       "[1, 4, 9]"
      ]
     },
     "execution_count": 15,
     "metadata": {},
     "output_type": "execute_result"
    }
   ],
   "source": [
    "num = [1,2,3]\n",
    "list(map(lambda a : a**2 , num))"
   ]
  }
 ],
 "metadata": {
  "kernelspec": {
   "display_name": "Python 3",
   "language": "python",
   "name": "python3"
  },
  "language_info": {
   "codemirror_mode": {
    "name": "ipython",
    "version": 3
   },
   "file_extension": ".py",
   "mimetype": "text/x-python",
   "name": "python",
   "nbconvert_exporter": "python",
   "pygments_lexer": "ipython3",
   "version": "3.10.0"
  }
 },
 "nbformat": 4,
 "nbformat_minor": 5
}

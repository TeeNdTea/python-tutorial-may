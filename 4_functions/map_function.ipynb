{
 "cells": [
  {
   "cell_type": "markdown",
   "id": "b35dbc5e",
   "metadata": {},
   "source": [
    "## Introduction to map( )\n"
   ]
  },
  {
   "cell_type": "code",
   "execution_count": null,
   "id": "3fc12bbd",
   "metadata": {},
   "outputs": [
    {
     "name": "stdout",
     "output_type": "stream",
     "text": [
      "[1, 4, 9, 16]\n"
     ]
    }
   ],
   "source": [
    "# Using map() only\n",
    "def square(x):\n",
    "    return x**2\n",
    "\n",
    "def apply_square(num_list):\n",
    "    return list(map(square, num_list))\n",
    "\n",
    "print(apply_square([1, 2, 3, 4])) \n"
   ]
  },
  {
   "cell_type": "code",
   "execution_count": null,
   "id": "a7cc3139",
   "metadata": {},
   "outputs": [
    {
     "name": "stdout",
     "output_type": "stream",
     "text": [
      "[1, 4, 9]\n"
     ]
    }
   ],
   "source": [
    "# Using lambda\n",
    "num = [1,2,3]\n",
    "square = list(map(lambda x : x**2,num))\n",
    "print(square)"
   ]
  },
  {
   "cell_type": "code",
   "execution_count": null,
   "id": "acab19f9",
   "metadata": {},
   "outputs": [
    {
     "name": "stdout",
     "output_type": "stream",
     "text": [
      "[5, 7, 9]\n"
     ]
    }
   ],
   "source": [
    "# Multiple iterators\n",
    "num1 = [1,2,3]\n",
    "num2 = [4,5,6]\n",
    "add = list(map(lambda num1,num2 : num1 + num2,num1,num2))\n",
    "print(add)"
   ]
  },
  {
   "cell_type": "code",
   "execution_count": 5,
   "id": "f83ac2de",
   "metadata": {},
   "outputs": [
    {
     "name": "stdout",
     "output_type": "stream",
     "text": [
      "[1, 2, 3, 4, 5]\n"
     ]
    }
   ],
   "source": [
    "# Use map to convert string to integers\n",
    "the_str = ['1','2','3','4','5']\n",
    "convert = list(map(int,the_str))\n",
    "print(convert)"
   ]
  },
  {
   "cell_type": "code",
   "execution_count": 6,
   "id": "ca671a3f",
   "metadata": {},
   "outputs": [
    {
     "name": "stdout",
     "output_type": "stream",
     "text": [
      "['APPLE', 'BANANA', 'CHERRY']\n"
     ]
    }
   ],
   "source": [
    "# Uppercase letters\n",
    "word = ['apple','banana','cherry']\n",
    "change = list(map(str.upper,word))\n",
    "print(change)"
   ]
  },
  {
   "cell_type": "code",
   "execution_count": 18,
   "id": "15412f69",
   "metadata": {},
   "outputs": [
    {
     "name": "stdout",
     "output_type": "stream",
     "text": [
      "[('Jonathan', 24), ('Sarah', 20), ('Ruby', 26)]\n"
     ]
    }
   ],
   "source": [
    "# Map in dictionary\n",
    "def get_name(person):\n",
    "    return person['name'], person['age'] \n",
    "person = [\n",
    "    {'name' : 'Jonathan', 'age' : 24, 'height' : 5.11},\n",
    "    {'name' : 'Sarah', 'age' : 20, 'height' : 5.6},\n",
    "    {'name' : 'Ruby', 'age' : 26, 'height' : 5.4}\n",
    "]\n",
    "result = list(map(get_name,person))\n",
    "print(result)"
   ]
  }
 ],
 "metadata": {
  "kernelspec": {
   "display_name": "Python 3",
   "language": "python",
   "name": "python3"
  },
  "language_info": {
   "codemirror_mode": {
    "name": "ipython",
    "version": 3
   },
   "file_extension": ".py",
   "mimetype": "text/x-python",
   "name": "python",
   "nbconvert_exporter": "python",
   "pygments_lexer": "ipython3",
   "version": "3.10.0"
  }
 },
 "nbformat": 4,
 "nbformat_minor": 5
}

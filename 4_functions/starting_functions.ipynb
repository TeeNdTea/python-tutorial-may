{
 "cells": [
  {
   "cell_type": "markdown",
   "id": "1fa8b3ff",
   "metadata": {},
   "source": [
    "## Introduction to Functions\n",
    "### Lecture Outline-\n",
    "- Defining Functions\n",
    "- Calling Functions\n",
    "- Function Parameters\n",
    "- Variable Length Arguments\n",
    "- Return Statement"
   ]
  },
  {
   "cell_type": "markdown",
   "id": "86204fa9",
   "metadata": {},
   "source": [
    "#### Defination -\n",
    "A funcion is a block of code that performs a specific task. Functions help in organizing & reusing code and improve readability"
   ]
  },
  {
   "cell_type": "code",
   "execution_count": null,
   "id": "0c527e69",
   "metadata": {},
   "outputs": [],
   "source": [
    "# Syntax\n",
    "def function_name(parameter):\n",
    "    '''DOCSTRING'''\n",
    "    # code body  \n",
    "# Call the function\n",
    "# function_name(value)"
   ]
  },
  {
   "cell_type": "code",
   "execution_count": 1,
   "id": "2d1b814c",
   "metadata": {},
   "outputs": [
    {
     "name": "stdout",
     "output_type": "stream",
     "text": [
      "Even\n"
     ]
    }
   ],
   "source": [
    "# Why Function?\n",
    "num = 20\n",
    "if num % 2 == 0:\n",
    "    print(\"Even\")\n",
    "else:\n",
    "    print(\"Odd\")"
   ]
  },
  {
   "cell_type": "code",
   "execution_count": 2,
   "id": "5b5b955b",
   "metadata": {},
   "outputs": [
    {
     "name": "stdout",
     "output_type": "stream",
     "text": [
      "Odd\n"
     ]
    }
   ],
   "source": [
    "def odd_or_even(num):\n",
    "    '''To check if a num is odd or even'''\n",
    "    if num % 2 == 0:\n",
    "        print('Even')\n",
    "    else:\n",
    "        print('Odd')\n",
    "# Call function\n",
    "odd_or_even(21)"
   ]
  },
  {
   "cell_type": "code",
   "execution_count": 4,
   "id": "21124d15",
   "metadata": {},
   "outputs": [
    {
     "data": {
      "text/plain": [
       "16"
      ]
     },
     "execution_count": 4,
     "metadata": {},
     "output_type": "execute_result"
    }
   ],
   "source": [
    "# Function with multiple parameters\n",
    "def add(a,b):\n",
    "    '''Summation of 2 numbers'''\n",
    "    # c = a + b\n",
    "    # return c\n",
    "    return a + b\n",
    "\n",
    "add(6,10)"
   ]
  },
  {
   "cell_type": "code",
   "execution_count": 9,
   "id": "47a79811",
   "metadata": {},
   "outputs": [
    {
     "name": "stdout",
     "output_type": "stream",
     "text": [
      "Hi Sarah! Welcome to programming!\n"
     ]
    }
   ],
   "source": [
    "# Default Parameter\n",
    "def greet(name = 'Guest'):\n",
    "    print(f\"Hi {name}! Welcome to programming!\")\n",
    "greet('Sarah')"
   ]
  },
  {
   "cell_type": "markdown",
   "id": "714f036d",
   "metadata": {},
   "source": [
    "Variable Length Argument:\n",
    "- Positional arg\n",
    "- Keyword arg\n",
    "##### * for multiple parameters *args (it can be of any name[*sarah] too) is used\n",
    "##### * for multiple parameters which is (key : value) *args"
   ]
  },
  {
   "cell_type": "code",
   "execution_count": null,
   "id": "446402ad",
   "metadata": {},
   "outputs": [
    {
     "name": "stdout",
     "output_type": "stream",
     "text": [
      "1 k1 5 i2 8 10\n"
     ]
    }
   ],
   "source": [
    "# Positional Argument\n",
    "def detail(*args):\n",
    "    '''Iterate over the items'''\n",
    "    for items in args:\n",
    "        print(items)\n",
    "print(1,'k1',5,'i2',8,10)"
   ]
  },
  {
   "cell_type": "code",
   "execution_count": 2,
   "id": "2257032c",
   "metadata": {},
   "outputs": [
    {
     "name": "stdout",
     "output_type": "stream",
     "text": [
      "name : Sarah\n",
      "age : 20\n",
      "country : USA\n"
     ]
    }
   ],
   "source": [
    "# Keywords Argument\n",
    "def details(**kwargs):\n",
    "    for key,value in kwargs.items():\n",
    "        print(f\"{key} : {value}\")\n",
    "\n",
    "details(name = 'Sarah', age = 20, country = 'USA')"
   ]
  },
  {
   "cell_type": "code",
   "execution_count": 3,
   "id": "95b21a02",
   "metadata": {},
   "outputs": [
    {
     "name": "stdout",
     "output_type": "stream",
     "text": [
      " Pos arg: 1\n",
      " Pos arg: 2\n",
      " Pos arg: 3\n",
      " Pos arg: 4\n",
      " Pos arg: 7\n",
      "name : Sarah\n",
      "age : 20\n",
      "country : USA\n"
     ]
    }
   ],
   "source": [
    "def details(*args,**kwargs):\n",
    "    for items in args:\n",
    "        print(f\" Pos arg: {items}\")\n",
    "    for key,value in kwargs.items():\n",
    "        print(f\"{key} : {value}\")\n",
    "        '''Positional arguments wont be after keyword arguments'''\n",
    "details(1,2,3,4,7,name = 'Sarah', age = 20, country = 'USA')\n"
   ]
  },
  {
   "cell_type": "code",
   "execution_count": 4,
   "id": "597efef5",
   "metadata": {},
   "outputs": [
    {
     "data": {
      "text/plain": [
       "(6, 2)"
      ]
     },
     "execution_count": 4,
     "metadata": {},
     "output_type": "execute_result"
    }
   ],
   "source": [
    "# Return Multiple parameters\n",
    "def multiply(a,b):\n",
    "    return a*b,a\n",
    "multiply(2,3)"
   ]
  }
 ],
 "metadata": {
  "kernelspec": {
   "display_name": "Python 3",
   "language": "python",
   "name": "python3"
  },
  "language_info": {
   "codemirror_mode": {
    "name": "ipython",
    "version": 3
   },
   "file_extension": ".py",
   "mimetype": "text/x-python",
   "name": "python",
   "nbconvert_exporter": "python",
   "pygments_lexer": "ipython3",
   "version": "3.10.0"
  }
 },
 "nbformat": 4,
 "nbformat_minor": 5
}

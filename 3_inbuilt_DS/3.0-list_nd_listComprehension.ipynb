{
 "cells": [
  {
   "cell_type": "markdown",
   "id": "83bd8704",
   "metadata": {},
   "source": [
    "## Introduction to Lists\n",
    "- Lists are ordered mutable collection of items\n",
    "- They can contain items of different data types\n",
    "\n",
    "### Class Outline:\n",
    "1. Creating Lists\n",
    "2. Accessing List elements\n",
    "3. Modifying List elements\n",
    "4. List Methods\n",
    "6. Slicing Lists\n",
    "7. Nested lists"
   ]
  },
  {
   "cell_type": "code",
   "execution_count": 3,
   "id": "4787d77e",
   "metadata": {},
   "outputs": [
    {
     "name": "stdout",
     "output_type": "stream",
     "text": [
      "<class 'list'>\n",
      "['apple', 'banana', 'litchi']\n",
      "[1, True, 'Nashville', 3.1415]\n"
     ]
    }
   ],
   "source": [
    "# How to create a list\n",
    "my_list = []\n",
    "print(type(my_list))\n",
    "\n",
    "# list with elements\n",
    "fruits = ['apple', 'banana', 'litchi']\n",
    "mixed_list = [1,True,'Nashville',3.1415]\n",
    "print(fruits)\n",
    "print(mixed_list)"
   ]
  },
  {
   "cell_type": "code",
   "execution_count": 17,
   "id": "78fccc92",
   "metadata": {},
   "outputs": [
    {
     "name": "stdout",
     "output_type": "stream",
     "text": [
      "kiwi\n",
      "apple\n",
      "pomegranate\n",
      "['banana', 'litchi', 'kiwi', 'pomegranate']\n",
      "['apple', 'banana', 'litchi', 'kiwi']\n"
     ]
    }
   ],
   "source": [
    "# accessing elements of list through index\n",
    "fruits = [\"apple\", \"banana\", \"litchi\",\"kiwi\",\"pomegranate\"]  # 0 based indexing\n",
    "print(fruits[3])\n",
    "print(fruits[0])\n",
    "print(fruits[-1])\n",
    "# print(fruits[8])\n",
    "\n",
    "print(fruits[1:])\n",
    "print(fruits[0:4])\n"
   ]
  },
  {
   "cell_type": "code",
   "execution_count": 18,
   "id": "e1ddf66f",
   "metadata": {},
   "outputs": [
    {
     "name": "stdout",
     "output_type": "stream",
     "text": [
      "['apple', 'banana', 'litchi', 'kiwi', 'cherry']\n"
     ]
    }
   ],
   "source": [
    "# Modify List elements\n",
    "fruits = [\"apple\", \"banana\", \"litchi\",\"kiwi\",\"pomegranate\"]\n",
    "fruits [4] = \"cherry\"\n",
    "print(fruits)\n"
   ]
  },
  {
   "cell_type": "code",
   "execution_count": null,
   "id": "d5178584",
   "metadata": {},
   "outputs": [
    {
     "name": "stdout",
     "output_type": "stream",
     "text": [
      "3\n"
     ]
    }
   ],
   "source": [
    "#List Methods\n",
    "fruits = [\"apple\", \"banana\", \"litchi\",\"kiwi\",\"pomegranate\"]\n",
    "\n",
    "fruits.append(\"orange\")  #Add item to the end of list\n",
    "print(fruits)\n",
    "\n",
    "fruits.insert(1,\"berry\")  #Add at given index\n",
    "print(fruits)\n",
    "\n",
    "fruits.remove(\"banana\") \n",
    "print(fruits)\n",
    "\n",
    "print(fruits.pop()) # remove and return last element\n",
    "\n",
    "print(fruits.index(\"kiwi\")) # find index of an element\n",
    "\n",
    "fruits.insert(3,'banana')\n",
    "print(fruits.count('banana')) # the no of occurance of an item in list\n",
    "\n",
    "fruits.sort() # arrangement in ascending\n",
    "print(fruits)\n",
    "\n",
    "fruits.reverse() # reverse the elements of list\n",
    "print(fruits)\n",
    "\n",
    "fruits.clear() # remove all items from list\n",
    "print(fruits)"
   ]
  },
  {
   "cell_type": "code",
   "execution_count": null,
   "id": "a060d747",
   "metadata": {},
   "outputs": [
    {
     "name": "stdout",
     "output_type": "stream",
     "text": [
      "[3, 4, 5]\n",
      "[4, 5, 6, 7, 8, 9, 10]\n",
      "[1, 2, 3, 4, 5, 6, 7]\n",
      "[1, 3, 5, 7, 9]\n",
      "[10, 9, 8, 7, 6, 5, 4, 3, 2, 1]\n"
     ]
    }
   ],
   "source": [
    "# Slicing List\n",
    "num = [1,2,3,4,5,6,7,8,9,10]\n",
    "print(num[2:5])\n",
    "print(num[3:])\n",
    "print(num[:7])\n",
    "print(num[::2]) # 2 is number of steps\n",
    "print(num[::-1]) # reversing"
   ]
  },
  {
   "cell_type": "code",
   "execution_count": 8,
   "id": "80f2267f",
   "metadata": {},
   "outputs": [
    {
     "name": "stdout",
     "output_type": "stream",
     "text": [
      "23 32 45 54 66 71 89 97 "
     ]
    }
   ],
   "source": [
    "# Iterate over elements of list\n",
    "num = [23, 32, 45, 54, 66, 71, 89, 97]\n",
    "for i in num:\n",
    "    print(i, end = \" \")"
   ]
  },
  {
   "cell_type": "code",
   "execution_count": null,
   "id": "23652927",
   "metadata": {},
   "outputs": [
    {
     "name": "stdout",
     "output_type": "stream",
     "text": [
      "Index: 0 Num: 19\n",
      "Index: 1 Num: 23\n",
      "Index: 2 Num: 32\n",
      "Index: 3 Num: 45\n",
      "Index: 4 Num: 54\n",
      "Index: 5 Num: 66\n",
      "Index: 6 Num: 71\n",
      "Index: 7 Num: 89\n",
      "Index: 8 Num: 97\n"
     ]
    }
   ],
   "source": [
    "# Iterate with index\n",
    "num = [19, 23, 32, 45, 54, 66, 71, 89, 97]\n",
    "for idx,i in enumerate(num):  # adds counter to items, we can give a start too\n",
    "    print(f\"Index: {idx} Num: {i}\")"
   ]
  },
  {
   "cell_type": "code",
   "execution_count": null,
   "id": "c52d023c",
   "metadata": {},
   "outputs": [
    {
     "name": "stdout",
     "output_type": "stream",
     "text": [
      "[0, 1, 4, 9, 16, 25, 36, 49, 64, 81]\n"
     ]
    }
   ],
   "source": [
    "# write square of numbers\n",
    "my_list = []\n",
    "for i in range(10):\n",
    "    my_list.append(i**2)\n",
    "print(my_list)"
   ]
  },
  {
   "cell_type": "markdown",
   "id": "7add29ba",
   "metadata": {},
   "source": [
    "### List Comprehension\n",
    "Basic Syntax [expression for item in iterable]\n",
    "\n",
    "With Conditional Logic [expression for item in iterable if condition]"
   ]
  },
  {
   "cell_type": "code",
   "execution_count": null,
   "id": "e18f4a27",
   "metadata": {},
   "outputs": [
    {
     "name": "stdout",
     "output_type": "stream",
     "text": [
      "[0, 1, 4, 9, 16, 25, 36, 49, 64, 81]\n"
     ]
    }
   ],
   "source": [
    "# Basic list comprehension\n",
    "# [what we want as output what we have as an operation]\n",
    "# simply, [operation iteration]\n",
    "\n",
    "square = [x**2 for x in range(10)] # directly this line can be run\n",
    "print(square)"
   ]
  },
  {
   "cell_type": "code",
   "execution_count": null,
   "id": "ccb23bfe",
   "metadata": {},
   "outputs": [
    {
     "name": "stdout",
     "output_type": "stream",
     "text": [
      "[0, 2, 4, 6, 8]\n"
     ]
    },
    {
     "data": {
      "text/plain": [
       "[0, 2, 4, 6, 8]"
      ]
     },
     "execution_count": 16,
     "metadata": {},
     "output_type": "execute_result"
    }
   ],
   "source": [
    "# List Comprehension with Condition\n",
    "lst = []\n",
    "for i in range(10):\n",
    "    if i%2 == 0: lst.append(i)\n",
    "print(lst)\n",
    "\n",
    "# list comp-\n",
    "[i for i in range(10) if i%2 == 0]"
   ]
  },
  {
   "cell_type": "code",
   "execution_count": null,
   "id": "7608209d",
   "metadata": {},
   "outputs": [
    {
     "name": "stdout",
     "output_type": "stream",
     "text": [
      "[{1, 'a'}, {1, 'b'}, {'c', 1}, {1, 'd'}, {1, 'e'}, {'a', 2}, {2, 'b'}, {'c', 2}, {2, 'd'}, {2, 'e'}, {'a', 3}, {'b', 3}, {'c', 3}, {3, 'd'}, {3, 'e'}, {'a', 4}, {'b', 4}, {'c', 4}, {4, 'd'}, {4, 'e'}, {'a', 5}, {'b', 5}, {'c', 5}, {'d', 5}, {'e', 5}]\n"
     ]
    }
   ],
   "source": [
    "# create a pair of list using list comprehension\n",
    "list1 = [1,2,3,4,5]\n",
    "list2 = ['a','b','c','d','e']\n",
    "pair = [{i,j} for i in list1 for j in list2] # we used tuple {}, can also be used list []\n",
    "print(pair)"
   ]
  },
  {
   "cell_type": "code",
   "execution_count": 18,
   "id": "e28e393e",
   "metadata": {},
   "outputs": [
    {
     "name": "stdout",
     "output_type": "stream",
     "text": [
      "[5, 11, 4, 13]\n"
     ]
    }
   ],
   "source": [
    "# count num of letters in a word in list (use function)\n",
    "words = ['hello', 'programmers', 'list', 'comprehension']\n",
    "length = [len(i) for i in words]\n",
    "print(length)"
   ]
  }
 ],
 "metadata": {
  "kernelspec": {
   "display_name": "Python 3",
   "language": "python",
   "name": "python3"
  },
  "language_info": {
   "codemirror_mode": {
    "name": "ipython",
    "version": 3
   },
   "file_extension": ".py",
   "mimetype": "text/x-python",
   "name": "python",
   "nbconvert_exporter": "python",
   "pygments_lexer": "ipython3",
   "version": "3.10.0"
  }
 },
 "nbformat": 4,
 "nbformat_minor": 5
}

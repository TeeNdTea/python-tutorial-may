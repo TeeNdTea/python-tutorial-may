{
 "cells": [
  {
   "cell_type": "markdown",
   "id": "6eafeb9d",
   "metadata": {},
   "source": [
    "## Introduction to Tuples\n",
    "- Tuples are ordered collections of items that are immutable.\n",
    "- similar to list but immutability makes them different\n",
    "\n",
    "### Class Outline-\n",
    "1. Creating Tuples\n",
    "2. Accessing Elements\n",
    "3. Immutable nature of tuples\n",
    "4. Packing & Unpacking tuples\n",
    "5. Nested Tuples\n",
    "6. Common Errors"
   ]
  },
  {
   "cell_type": "code",
   "execution_count": 2,
   "id": "56626420",
   "metadata": {},
   "outputs": [
    {
     "name": "stdout",
     "output_type": "stream",
     "text": [
      "()\n",
      "<class 'tuple'>\n",
      "<class 'list'>\n",
      "<class 'tuple'>\n"
     ]
    }
   ],
   "source": [
    "# Create Tuple\n",
    "empty_tuple = ()\n",
    "print(empty_tuple)\n",
    "print(type(empty_tuple))\n",
    "\n",
    "empty_list = list()\n",
    "print(type(empty_list))\n",
    "\n",
    "tpl = tuple()\n",
    "print(type(tpl))"
   ]
  },
  {
   "cell_type": "code",
   "execution_count": null,
   "id": "24714ca2",
   "metadata": {},
   "outputs": [
    {
     "name": "stdout",
     "output_type": "stream",
     "text": [
      "(1, 2, 3, 4, 5)\n"
     ]
    },
    {
     "data": {
      "text/plain": [
       "[21, 22, 23, 24, 25]"
      ]
     },
     "execution_count": 4,
     "metadata": {},
     "output_type": "execute_result"
    }
   ],
   "source": [
    "# Type conversion\n",
    "# tuples can be converted to list and vice versa\n",
    "\n",
    "given_list = [1,2,3,4,5]\n",
    "print(tuple(given_list))\n",
    "\n",
    "list((21,22,23,24,25))"
   ]
  },
  {
   "cell_type": "code",
   "execution_count": 5,
   "id": "9a0551e2",
   "metadata": {},
   "outputs": [
    {
     "name": "stdout",
     "output_type": "stream",
     "text": [
      "('a', 4, 7.5, True)\n"
     ]
    }
   ],
   "source": [
    "# Mixed Tuple\n",
    "a_tuple = ('a', 4, 7.5, True)\n",
    "print(a_tuple)"
   ]
  },
  {
   "cell_type": "markdown",
   "id": "0d9aaf96",
   "metadata": {},
   "source": [
    "### Tuple Operations\n",
    "- Indexing\n",
    "- Slicing\n",
    "- Concatenation\n",
    "- Repetition"
   ]
  },
  {
   "cell_type": "code",
   "execution_count": null,
   "id": "7402ddd2",
   "metadata": {},
   "outputs": [
    {
     "name": "stdout",
     "output_type": "stream",
     "text": [
      "67\n",
      "(33, 67, 73, 99, 15)\n",
      "(22, 67, 89, 67, 99)\n",
      "(89, 33, 67, 73)\n",
      "67\n",
      "(15, 99, 73, 67, 33, 89, 45, 67, 31, 22)\n"
     ]
    }
   ],
   "source": [
    "# Accessing and Slicing of Tuple elements\n",
    "\n",
    "num = (22,31,67,45,89,33,67,73,99,15)\n",
    "print(num[2]) # Indexing\n",
    "print(num[5:])\n",
    "print(num[::2]) \n",
    "print(num[4:8]) # Slicing\n",
    "print(num[-4])\n",
    "print(num[::-1])"
   ]
  },
  {
   "cell_type": "code",
   "execution_count": 2,
   "id": "e77e2131",
   "metadata": {},
   "outputs": [
    {
     "name": "stdout",
     "output_type": "stream",
     "text": [
      "(1, 2, 'hello', 'world', 'python')\n"
     ]
    }
   ],
   "source": [
    "# Concatenation\n",
    "tuple1 = (1,2)\n",
    "tuple2 = (\"hello\", 'world','python')\n",
    "concatenated_tuple = tuple1 + tuple2\n",
    "print(concatenated_tuple)"
   ]
  },
  {
   "cell_type": "code",
   "execution_count": 1,
   "id": "e8f11325",
   "metadata": {},
   "outputs": [
    {
     "name": "stdout",
     "output_type": "stream",
     "text": [
      "(1.54, 'hello', 5, 'python', 1.54, 'hello', 5, 'python', 1.54, 'hello', 5, 'python') "
     ]
    }
   ],
   "source": [
    "# Repetation\n",
    "mixed_tuple = (1.54,'hello',5,'python')\n",
    "print(mixed_tuple * 3, end=' ')"
   ]
  },
  {
   "cell_type": "markdown",
   "id": "75f0d781",
   "metadata": {},
   "source": [
    "### Immutable Nature of Tuple\n",
    "\n",
    "-> The elements in a tuple cannot be changed once assigned\n",
    "-> change tuple to list, update and again change back to tuple if needed"
   ]
  },
  {
   "cell_type": "code",
   "execution_count": null,
   "id": "bc366310",
   "metadata": {},
   "outputs": [
    {
     "ename": "TypeError",
     "evalue": "'tuple' object does not support item assignment",
     "output_type": "error",
     "traceback": [
      "\u001b[1;31m---------------------------------------------------------------------------\u001b[0m",
      "\u001b[1;31mTypeError\u001b[0m                                 Traceback (most recent call last)",
      "Cell \u001b[1;32mIn[6], line 6\u001b[0m\n\u001b[0;32m      1\u001b[0m \u001b[38;5;66;03m# list1 = [1,2,3,4]\u001b[39;00m\n\u001b[0;32m      2\u001b[0m \u001b[38;5;66;03m# list1[0] = \"hello\"\u001b[39;00m\n\u001b[0;32m      3\u001b[0m \u001b[38;5;66;03m# print(list1)\u001b[39;00m\n\u001b[0;32m      5\u001b[0m tup \u001b[38;5;241m=\u001b[39m (\u001b[38;5;241m1\u001b[39m,\u001b[38;5;241m2\u001b[39m,\u001b[38;5;241m3\u001b[39m,\u001b[38;5;241m4\u001b[39m)\n\u001b[1;32m----> 6\u001b[0m \u001b[43mtup\u001b[49m\u001b[43m[\u001b[49m\u001b[38;5;241;43m1\u001b[39;49m\u001b[43m]\u001b[49m \u001b[38;5;241m=\u001b[39m \u001b[38;5;124m'\u001b[39m\u001b[38;5;124mhello\u001b[39m\u001b[38;5;124m'\u001b[39m\n\u001b[0;32m      7\u001b[0m \u001b[38;5;28mprint\u001b[39m(tup)\n",
      "\u001b[1;31mTypeError\u001b[0m: 'tuple' object does not support item assignment"
     ]
    }
   ],
   "source": [
    "# list1 = [1,2,3,4]\n",
    "# list1[0] = \"hello\"\n",
    "# print(list1)\n",
    "\n",
    "tup = (1,2,3,4)\n",
    "tup[1] = 'hello'\n",
    "print(tup)"
   ]
  },
  {
   "cell_type": "code",
   "execution_count": 8,
   "id": "c6ad0025",
   "metadata": {},
   "outputs": [
    {
     "name": "stdout",
     "output_type": "stream",
     "text": [
      "2\n",
      "3\n"
     ]
    }
   ],
   "source": [
    "# Tuple methods\n",
    "tup1 = (5,'raz',3.14,51,'raz')\n",
    "print(tup1.count('raz'))\n",
    "print(tup1.index(51))\n"
   ]
  },
  {
   "cell_type": "code",
   "execution_count": null,
   "id": "3d7e0ee1",
   "metadata": {},
   "outputs": [
    {
     "name": "stdout",
     "output_type": "stream",
     "text": [
      "(1, 3.14, 'hello')\n"
     ]
    }
   ],
   "source": [
    "# Packing of Tuple\n",
    "a = 1,3.14,'hello' # we are not using any brackets nptice\n",
    "print(a)"
   ]
  },
  {
   "cell_type": "code",
   "execution_count": 12,
   "id": "6983f192",
   "metadata": {},
   "outputs": [
    {
     "name": "stdout",
     "output_type": "stream",
     "text": [
      "17\n",
      "Istanbul\n",
      "67.8\n",
      "1\n",
      "[2, 3, 4, 5]\n",
      "6\n"
     ]
    }
   ],
   "source": [
    "# Unpacking a tuple\n",
    "packed_tuple = 17,'Istanbul', 67.8\n",
    "a,b,c = packed_tuple\n",
    "print(a)\n",
    "print(b)\n",
    "print(c)\n",
    "\n",
    "# Unpacking with a star\n",
    "\n",
    "num = 1,2,3,4,5,6\n",
    "first,*middle,last = num\n",
    "print(first)\n",
    "print(middle)\n",
    "print(last)"
   ]
  },
  {
   "cell_type": "code",
   "execution_count": 16,
   "id": "acb7ae9a",
   "metadata": {},
   "outputs": [
    {
     "data": {
      "text/plain": [
       "'!'"
      ]
     },
     "execution_count": 16,
     "metadata": {},
     "output_type": "execute_result"
    }
   ],
   "source": [
    "# Nested List\n",
    "lst = [1,2,'hello',[21,44,56],[2.3,4.5,9.8]]\n",
    "# lst[3][0]\n",
    "lst[3][1:]\n",
    "\n",
    "# Nested Tuple\n",
    "tup = ((1,2,3,4,5),('A','G','!'),2,5,7.8)\n",
    "tup[1][2]"
   ]
  },
  {
   "cell_type": "code",
   "execution_count": 24,
   "id": "a9e97f8a",
   "metadata": {},
   "outputs": [
    {
     "name": "stdout",
     "output_type": "stream",
     "text": [
      "1 2 3 \n",
      "True False \n",
      "! a c \n"
     ]
    }
   ],
   "source": [
    "# Iterating Over Nested Tuple\n",
    "tup = ((1,2,3),(True,False),('!','a','c'))\n",
    "\n",
    "for sub_tup in tup:\n",
    "    for items in sub_tup:\n",
    "        print(items,end=\" \")\n",
    "    print()"
   ]
  }
 ],
 "metadata": {
  "kernelspec": {
   "display_name": "Python 3",
   "language": "python",
   "name": "python3"
  },
  "language_info": {
   "codemirror_mode": {
    "name": "ipython",
    "version": 3
   },
   "file_extension": ".py",
   "mimetype": "text/x-python",
   "name": "python",
   "nbconvert_exporter": "python",
   "pygments_lexer": "ipython3",
   "version": "3.10.0"
  }
 },
 "nbformat": 4,
 "nbformat_minor": 5
}

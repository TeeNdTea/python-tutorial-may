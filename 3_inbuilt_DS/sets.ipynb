{
 "cells": [
  {
   "cell_type": "markdown",
   "id": "5f805c4d",
   "metadata": {},
   "source": [
    "## Introduction to SETS in python\n",
    "\n",
    "### Class Outline-\n",
    "- Defination\n"
   ]
  },
  {
   "cell_type": "markdown",
   "id": "aa1ff7a2",
   "metadata": {},
   "source": [
    "### What is Sets?\n",
    "Sets are a built-in data type in python used to store  collection of unique items. \n",
    "- unordered\n",
    "- do not duplicate elements\n",
    "\n",
    "Useful for-\n",
    "- membership tests\n",
    "- eliminating duplicate entries\n",
    "- mathematical operatrions like -\n",
    "\n",
    "        - Union\n",
    "        - Intersection\n",
    "        - difference\n",
    "        - symmetric difference"
   ]
  },
  {
   "cell_type": "code",
   "execution_count": null,
   "id": "84da3fee",
   "metadata": {},
   "outputs": [
    {
     "name": "stdout",
     "output_type": "stream",
     "text": [
      "{1, 2, 3, 4, 5, 6}\n",
      "<class 'set'>\n",
      "<class 'set'>\n",
      "{1, 2, 3, 4, 5, 6, 7, 8, 9}\n"
     ]
    }
   ],
   "source": [
    "# Create Sets\n",
    "# only difference with dictionary's symbol is it doesnt have key value\n",
    "# it will not have any duplicate items\n",
    "\n",
    "my_set = {1,2,3,4,5,6}\n",
    "print(my_set)\n",
    "print(type(my_set))\n",
    "\n",
    "my_empty_set = set()\n",
    "print(type(my_empty_set))\n",
    "\n",
    "no_dup_in_set = {1,2,3,9,3,5,6,3,5,7,8,7,2,4}\n",
    "print(no_dup_in_set)"
   ]
  },
  {
   "cell_type": "code",
   "execution_count": 8,
   "id": "4ab7f560",
   "metadata": {},
   "outputs": [
    {
     "name": "stdout",
     "output_type": "stream",
     "text": [
      "{3, 4, 5, 6, 8}\n",
      "{3, 4, 5, 6, 8, 9}\n",
      "{3, 5, 6, 8, 9}\n"
     ]
    }
   ],
   "source": [
    "# Basic Set Operations\n",
    "\n",
    "lst = [3,4,5,6,8]\n",
    "my_set = set(lst)\n",
    "print(my_set)\n",
    "my_set.add(9)\n",
    "print(my_set)\n",
    "my_set.remove(4)\n",
    "print(my_set)"
   ]
  }
 ],
 "metadata": {
  "kernelspec": {
   "display_name": "Python 3",
   "language": "python",
   "name": "python3"
  },
  "language_info": {
   "codemirror_mode": {
    "name": "ipython",
    "version": 3
   },
   "file_extension": ".py",
   "mimetype": "text/x-python",
   "name": "python",
   "nbconvert_exporter": "python",
   "pygments_lexer": "ipython3",
   "version": "3.10.0"
  }
 },
 "nbformat": 4,
 "nbformat_minor": 5
}

{
 "cells": [
  {
   "cell_type": "markdown",
   "id": "5f805c4d",
   "metadata": {},
   "source": [
    "## Introduction to SETS in python\n",
    "\n",
    "### Class Outline-\n",
    "- Defination\n",
    "- Creating Set\n",
    "- Basic Operations\n",
    "- Errors\n",
    "- Set Membership Tests\n",
    "- Mathematical Operations\n",
    "- Set Methods\n"
   ]
  },
  {
   "cell_type": "markdown",
   "id": "aa1ff7a2",
   "metadata": {},
   "source": [
    "### What is Sets?\n",
    "Sets are a built-in data type in python used to store  collection of unique items. \n",
    "- unordered\n",
    "- do not duplicate elements\n",
    "\n",
    "Useful for-\n",
    "- membership tests\n",
    "- eliminating duplicate entries\n",
    "- mathematical operatrions like -\n",
    "\n",
    "        - Union\n",
    "        - Intersection\n",
    "        - difference\n",
    "        - symmetric difference"
   ]
  },
  {
   "cell_type": "code",
   "execution_count": null,
   "id": "84da3fee",
   "metadata": {},
   "outputs": [
    {
     "name": "stdout",
     "output_type": "stream",
     "text": [
      "{1, 2, 3, 4, 5, 6}\n",
      "<class 'set'>\n",
      "<class 'set'>\n",
      "{1, 2, 3, 4, 5, 6, 7, 8, 9}\n"
     ]
    }
   ],
   "source": [
    "# Create Sets\n",
    "# only difference with dictionary's symbol is it doesnt have key value\n",
    "# it will not have any duplicate items\n",
    "\n",
    "my_set = {1,2,3,4,5,6}\n",
    "print(my_set)\n",
    "print(type(my_set))\n",
    "\n",
    "my_empty_set = set()\n",
    "print(type(my_empty_set))\n",
    "\n",
    "no_dup_in_set = {1,2,3,9,3,5,6,3,5,7,8,7,2,4}\n",
    "print(no_dup_in_set)"
   ]
  },
  {
   "cell_type": "code",
   "execution_count": 7,
   "id": "4ab7f560",
   "metadata": {},
   "outputs": [
    {
     "name": "stdout",
     "output_type": "stream",
     "text": [
      "{3, 4, 5, 6, 8}\n",
      "{3, 4, 5, 6, 8, 9}\n",
      "{3, 5, 6, 8, 9}\n",
      "set()\n"
     ]
    }
   ],
   "source": [
    "# Basic Set Operations\n",
    "\n",
    "lst = [3,4,5,6,8]\n",
    "my_set = set(lst)\n",
    "print(my_set)\n",
    "my_set.add(9)\n",
    "print(my_set)\n",
    "my_set.remove(4)\n",
    "print(my_set)\n",
    "my_set.clear()\n",
    "print(my_set)"
   ]
  },
  {
   "cell_type": "code",
   "execution_count": 1,
   "id": "cb542fbd",
   "metadata": {},
   "outputs": [
    {
     "ename": "KeyError",
     "evalue": "10",
     "output_type": "error",
     "traceback": [
      "\u001b[1;31m---------------------------------------------------------------------------\u001b[0m",
      "\u001b[1;31mKeyError\u001b[0m                                  Traceback (most recent call last)",
      "Cell \u001b[1;32mIn[1], line 3\u001b[0m\n\u001b[0;32m      1\u001b[0m \u001b[38;5;66;03m# if we want to remove and element not present in the set\u001b[39;00m\n\u001b[0;32m      2\u001b[0m set1 \u001b[38;5;241m=\u001b[39m {\u001b[38;5;241m6\u001b[39m,\u001b[38;5;241m8\u001b[39m,\u001b[38;5;241m2\u001b[39m,\u001b[38;5;241m7\u001b[39m,\u001b[38;5;241m1\u001b[39m,\u001b[38;5;241m9\u001b[39m}\n\u001b[1;32m----> 3\u001b[0m \u001b[43mset1\u001b[49m\u001b[38;5;241;43m.\u001b[39;49m\u001b[43mremove\u001b[49m\u001b[43m(\u001b[49m\u001b[38;5;241;43m10\u001b[39;49m\u001b[43m)\u001b[49m\n\u001b[0;32m      4\u001b[0m \u001b[38;5;28mprint\u001b[39m(set1)\n",
      "\u001b[1;31mKeyError\u001b[0m: 10"
     ]
    }
   ],
   "source": [
    "# if we want to remove and element not present in the set\n",
    "set1 = {6,8,2,7,1,9}\n",
    "set1.remove(10)\n",
    "print(set1)"
   ]
  },
  {
   "cell_type": "code",
   "execution_count": null,
   "id": "824d4c80",
   "metadata": {},
   "outputs": [
    {
     "name": "stdout",
     "output_type": "stream",
     "text": [
      "{1, 2, 3, 4, 6, 8}\n"
     ]
    }
   ],
   "source": [
    "# we can use 'discard' to avoid error\n",
    "set1 = {1,4,3,6,2,8}\n",
    "set1.discard(11)\n",
    "print(set1)"
   ]
  },
  {
   "cell_type": "code",
   "execution_count": null,
   "id": "522929db",
   "metadata": {},
   "outputs": [
    {
     "name": "stdout",
     "output_type": "stream",
     "text": [
      "3.1\n",
      "{7, 9, 'raven', 'hello'}\n"
     ]
    }
   ],
   "source": [
    "# pop - removes arbitrary element due to unordered nature\n",
    "setA = {'hello',7,3.1,'raven',9}\n",
    "rmv = setA.pop()\n",
    "print(rmv)\n",
    "print(setA)\n"
   ]
  },
  {
   "cell_type": "code",
   "execution_count": 8,
   "id": "680befc1",
   "metadata": {},
   "outputs": [
    {
     "name": "stdout",
     "output_type": "stream",
     "text": [
      "True\n",
      "False\n"
     ]
    }
   ],
   "source": [
    "# Set Membership  Test\n",
    "setB = {23,57,45,91,89}\n",
    "print(89 in setB)\n",
    "print(10 in setB)"
   ]
  },
  {
   "cell_type": "code",
   "execution_count": null,
   "id": "f96972e1",
   "metadata": {},
   "outputs": [
    {
     "name": "stdout",
     "output_type": "stream",
     "text": [
      "Set 1 = {1, 2, 3, 4, 5, 6}\n",
      "Set 2 = {1, 2, 3, 7, 8, 9} "
     ]
    }
   ],
   "source": [
    "# Mathematical Operations\n",
    "\n",
    "# Union \n",
    "set1 = {1,2,3,4,5,4,6}\n",
    "set2 = {4,5,6,7,8,9,7}\n",
    "set1.union(set2)\n",
    "\n",
    "#intersection\n",
    "set1.intersection(set2)\n",
    "\n",
    "# intersection_update - updates the preferred set to the common elements\n",
    "set1.intersection_update(set2)\n",
    "print(set1)\n",
    "\n",
    "# print(f\"Set 1 = {set1}\\nSet 2 = {set2}\",end = \" \")\n",
    "\n",
    "# Difference\n",
    "print(set1.difference(set2))\n",
    "\n",
    "# Symmetric difference - not the common elements in both sets\n",
    "set1.symmetric_difference(set2)\n",
    "set2.symmetric_difference_update(set1)\n",
    "\n",
    "# print(f\"Set 1 = {set1}\\nSet 2 = {set2}\",end = \" \")\n"
   ]
  },
  {
   "cell_type": "code",
   "execution_count": null,
   "id": "d5d6e413",
   "metadata": {},
   "outputs": [
    {
     "name": "stdout",
     "output_type": "stream",
     "text": [
      "False\n"
     ]
    }
   ],
   "source": [
    "# Set Methods\n",
    "x = {1,2,3,4,5}\n",
    "y = {3,4,5}\n",
    "\n",
    "# is subset (<=) - all the elements in x is available in y\n",
    "print(x.issubset(y))\n",
    "# is superset (>=) - all the elements of y is in x\n",
    "print(x.issuperset(y))"
   ]
  },
  {
   "cell_type": "code",
   "execution_count": null,
   "id": "3f528c8c",
   "metadata": {},
   "outputs": [
    {
     "data": {
      "text/plain": [
       "{1, 2, 3, 4, 5, 6}"
      ]
     },
     "execution_count": 26,
     "metadata": {},
     "output_type": "execute_result"
    }
   ],
   "source": [
    "# Remove duplicates in List\n",
    "given_list = [1,2,2,3,4,4,5,5,5,6]\n",
    "set(given_list)"
   ]
  },
  {
   "cell_type": "code",
   "execution_count": 30,
   "id": "fe0bba9f",
   "metadata": {},
   "outputs": [
    {
     "name": "stdout",
     "output_type": "stream",
     "text": [
      "{'thought', 'same', 'the', 'cat', 'The', 'that', 'was', 'not', 'before.', 'chased', 'because'}\n",
      "11\n"
     ]
    }
   ],
   "source": [
    "# Counting Unique Words in Text\n",
    "text = \"The cat chased the cat because the cat thought the cat was not the same cat that chased the cat before.\"\n",
    "words = text.split()\n",
    "\n",
    "# convert list of words to get unique words\n",
    "unique_words = set(words)\n",
    "print(unique_words)\n",
    "print(len(unique_words))"
   ]
  }
 ],
 "metadata": {
  "kernelspec": {
   "display_name": "Python 3",
   "language": "python",
   "name": "python3"
  },
  "language_info": {
   "codemirror_mode": {
    "name": "ipython",
    "version": 3
   },
   "file_extension": ".py",
   "mimetype": "text/x-python",
   "name": "python",
   "nbconvert_exporter": "python",
   "pygments_lexer": "ipython3",
   "version": "3.10.0"
  }
 },
 "nbformat": 4,
 "nbformat_minor": 5
}

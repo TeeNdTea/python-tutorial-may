{
 "cells": [
  {
   "cell_type": "markdown",
   "id": "6eafeb9d",
   "metadata": {},
   "source": [
    "## Introduction to Tuples\n",
    "- Tuples are ordered collections of items that are immutable.\n",
    "- similar to list but immutability makes them different\n",
    "\n",
    "### Class Outline-\n",
    "1. Creating Tuples\n",
    "2. Accessing Elements\n",
    "3. Immutable nature of tuples\n",
    "4. Packing & Unpacking tuples\n",
    "5. Nested Tuples\n",
    "6. Common Errors"
   ]
  },
  {
   "cell_type": "code",
   "execution_count": 2,
   "id": "56626420",
   "metadata": {},
   "outputs": [
    {
     "name": "stdout",
     "output_type": "stream",
     "text": [
      "()\n",
      "<class 'tuple'>\n",
      "<class 'list'>\n",
      "<class 'tuple'>\n"
     ]
    }
   ],
   "source": [
    "# Create Tuple\n",
    "empty_tuple = ()\n",
    "print(empty_tuple)\n",
    "print(type(empty_tuple))\n",
    "\n",
    "empty_list = list()\n",
    "print(type(empty_list))\n",
    "\n",
    "tpl = tuple()\n",
    "print(type(tpl))"
   ]
  },
  {
   "cell_type": "code",
   "execution_count": null,
   "id": "24714ca2",
   "metadata": {},
   "outputs": [
    {
     "name": "stdout",
     "output_type": "stream",
     "text": [
      "(1, 2, 3, 4, 5)\n"
     ]
    },
    {
     "data": {
      "text/plain": [
       "[21, 22, 23, 24, 25]"
      ]
     },
     "execution_count": 4,
     "metadata": {},
     "output_type": "execute_result"
    }
   ],
   "source": [
    "# Type conversion\n",
    "# tuples can be converted to list and vice versa\n",
    "\n",
    "given_list = [1,2,3,4,5]\n",
    "print(tuple(given_list))\n",
    "\n",
    "list((21,22,23,24,25))"
   ]
  },
  {
   "cell_type": "code",
   "execution_count": 5,
   "id": "9a0551e2",
   "metadata": {},
   "outputs": [
    {
     "name": "stdout",
     "output_type": "stream",
     "text": [
      "('a', 4, 7.5, True)\n"
     ]
    }
   ],
   "source": [
    "# Mixed Tuple\n",
    "a_tuple = ('a', 4, 7.5, True)\n",
    "print(a_tuple)"
   ]
  },
  {
   "cell_type": "markdown",
   "id": "0d9aaf96",
   "metadata": {},
   "source": [
    "### Tuple Operations\n",
    "- Indexing\n",
    "- Slicing\n",
    "- Concatenation\n",
    "- Repetition"
   ]
  },
  {
   "cell_type": "code",
   "execution_count": null,
   "id": "7402ddd2",
   "metadata": {},
   "outputs": [
    {
     "name": "stdout",
     "output_type": "stream",
     "text": [
      "67\n",
      "(33, 67, 73, 99, 15)\n",
      "(22, 67, 89, 67, 99)\n",
      "(89, 33, 67, 73)\n",
      "67\n",
      "(15, 99, 73, 67, 33, 89, 45, 67, 31, 22)\n"
     ]
    }
   ],
   "source": [
    "# Accessing and Slicing of Tuple elements\n",
    "\n",
    "num = (22,31,67,45,89,33,67,73,99,15)\n",
    "print(num[2]) # Indexing\n",
    "print(num[5:])\n",
    "print(num[::2]) \n",
    "print(num[4:8]) # Slicing\n",
    "print(num[-4])\n",
    "print(num[::-1])"
   ]
  },
  {
   "cell_type": "code",
   "execution_count": null,
   "id": "e77e2131",
   "metadata": {},
   "outputs": [],
   "source": [
    "# Concatenation"
   ]
  }
 ],
 "metadata": {
  "kernelspec": {
   "display_name": "Python 3",
   "language": "python",
   "name": "python3"
  },
  "language_info": {
   "codemirror_mode": {
    "name": "ipython",
    "version": 3
   },
   "file_extension": ".py",
   "mimetype": "text/x-python",
   "name": "python",
   "nbconvert_exporter": "python",
   "pygments_lexer": "ipython3",
   "version": "3.10.0"
  }
 },
 "nbformat": 4,
 "nbformat_minor": 5
}

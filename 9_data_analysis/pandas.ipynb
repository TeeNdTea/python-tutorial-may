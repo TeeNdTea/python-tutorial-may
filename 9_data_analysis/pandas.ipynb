{
 "cells": [
  {
   "cell_type": "markdown",
   "id": "7a4880e6",
   "metadata": {},
   "source": [
    "## Introduction to Pandas - DataFrame & Series"
   ]
  },
  {
   "cell_type": "code",
   "execution_count": 1,
   "id": "513120c1",
   "metadata": {},
   "outputs": [],
   "source": [
    "import pandas as pd"
   ]
  },
  {
   "cell_type": "markdown",
   "id": "784139fd",
   "metadata": {},
   "source": [
    "### Series\n",
    "''' Pandas series is one dimensional array-obj that can hold any data type.\n",
    "it is similar to a column in a table.'''\n"
   ]
  },
  {
   "cell_type": "code",
   "execution_count": 3,
   "id": "ecfc4bd9",
   "metadata": {},
   "outputs": [
    {
     "name": "stdout",
     "output_type": "stream",
     "text": [
      "0    23\n",
      "1    34\n",
      "2    46\n",
      "3    57\n",
      "4    61\n",
      "dtype: int64\n",
      "<class 'pandas.core.series.Series'>\n"
     ]
    }
   ],
   "source": [
    "import pandas as pd\n",
    "data = pd.Series([23,34,46,57,61])\n",
    "print(data)\n",
    "print(type(data))"
   ]
  },
  {
   "cell_type": "code",
   "execution_count": 6,
   "id": "1f4251d1",
   "metadata": {},
   "outputs": [
    {
     "name": "stdout",
     "output_type": "stream",
     "text": [
      "a    5\n",
      "b    8\n",
      "c    2\n",
      "d    7\n",
      "dtype: int64\n"
     ]
    }
   ],
   "source": [
    "# Series from Dictionary\n",
    "data = pd.Series({'a': 5,'b': 8,'c': 2, 'd': 7})\n",
    "print(data)"
   ]
  },
  {
   "cell_type": "code",
   "execution_count": 11,
   "id": "6eb25142",
   "metadata": {},
   "outputs": [
    {
     "data": {
      "text/plain": [
       "a    31\n",
       "c    33\n",
       "e    35\n",
       "g    37\n",
       "i    39\n",
       "dtype: int64"
      ]
     },
     "execution_count": 11,
     "metadata": {},
     "output_type": "execute_result"
    }
   ],
   "source": [
    "data = [31,33,35,37,39]\n",
    "idx = ['a','c','e','g','i']\n",
    "pd.Series(data,idx)"
   ]
  },
  {
   "cell_type": "markdown",
   "id": "57cee447",
   "metadata": {},
   "source": [
    "### DataFrame\n",
    "''' DataFrame is a 2D mutable heterogenous tabular data\n",
    "It can have multiple rows & cols\n",
    "'''"
   ]
  },
  {
   "cell_type": "code",
   "execution_count": 15,
   "id": "9ff4bc5b",
   "metadata": {},
   "outputs": [
    {
     "name": "stdout",
     "output_type": "stream",
     "text": [
      "    Name  Age      Place\n",
      "0   Lana   30     Malibu\n",
      "1   Abel   31   Bay-Area\n",
      "2  Bella   25  Hollywood\n",
      "<class 'pandas.core.frame.DataFrame'>\n"
     ]
    }
   ],
   "source": [
    "# DataFrame from dictrionary\n",
    "import pandas as pd\n",
    "data = {\n",
    "    'Name' : ['Lana','Abel','Bella'],\n",
    "    'Age' : [30,31,25],\n",
    "    'Place' : ['Malibu','Bay-Area','Hollywood']\n",
    "}\n",
    "df = pd.DataFrame(data)\n",
    "print(df)\n",
    "print(type(df))"
   ]
  },
  {
   "cell_type": "code",
   "execution_count": 16,
   "id": "76fa5ea4",
   "metadata": {},
   "outputs": [
    {
     "name": "stdout",
     "output_type": "stream",
     "text": [
      "[['Lana' 30 'Malibu']\n",
      " ['Abel' 31 'Bay-Area']\n",
      " ['Bella' 25 'Hollywood']]\n"
     ]
    }
   ],
   "source": [
    "import numpy as np\n",
    "n = np.array(df)\n",
    "print(n)"
   ]
  },
  {
   "cell_type": "code",
   "execution_count": 19,
   "id": "53bf6bfe",
   "metadata": {},
   "outputs": [
    {
     "name": "stdout",
     "output_type": "stream",
     "text": [
      "      Name  Age           Place\n",
      "0     Lana   30          Malibu\n",
      "1     Judy   23        Bay-Area\n",
      "2  Natasha   20        Pasadena\n",
      "3   Sieera   31  Silicon-Valley\n",
      "4    Heidy   27       Hollywood\n"
     ]
    }
   ],
   "source": [
    "# Create a DataFrame from list of dictionaries\n",
    "data = [\n",
    "    {'Name':'Lana','Age':30,'Place':'Malibu'},\n",
    "    {'Name':'Judy','Age':23,'Place':'Bay-Area'},\n",
    "    {'Name':'Natasha','Age':20,'Place':'Pasadena'},\n",
    "    {'Name':'Sieera','Age':31,'Place':'Silicon-Valley'},\n",
    "    {'Name':'Heidy','Age':27,'Place':'Hollywood'}\n",
    "]\n",
    "df = pd.DataFrame(data)\n",
    "print(df)"
   ]
  },
  {
   "cell_type": "code",
   "execution_count": 27,
   "id": "4b266ddb",
   "metadata": {},
   "outputs": [
    {
     "data": {
      "text/html": [
       "<div>\n",
       "<style scoped>\n",
       "    .dataframe tbody tr th:only-of-type {\n",
       "        vertical-align: middle;\n",
       "    }\n",
       "\n",
       "    .dataframe tbody tr th {\n",
       "        vertical-align: top;\n",
       "    }\n",
       "\n",
       "    .dataframe thead th {\n",
       "        text-align: right;\n",
       "    }\n",
       "</style>\n",
       "<table border=\"1\" class=\"dataframe\">\n",
       "  <thead>\n",
       "    <tr style=\"text-align: right;\">\n",
       "      <th></th>\n",
       "      <th>Name</th>\n",
       "      <th>Age</th>\n",
       "      <th>Place</th>\n",
       "    </tr>\n",
       "  </thead>\n",
       "  <tbody>\n",
       "    <tr>\n",
       "      <th>0</th>\n",
       "      <td>Lana</td>\n",
       "      <td>30</td>\n",
       "      <td>Malibu</td>\n",
       "    </tr>\n",
       "    <tr>\n",
       "      <th>1</th>\n",
       "      <td>Judy</td>\n",
       "      <td>23</td>\n",
       "      <td>Bay-Area</td>\n",
       "    </tr>\n",
       "    <tr>\n",
       "      <th>2</th>\n",
       "      <td>Natasha</td>\n",
       "      <td>20</td>\n",
       "      <td>Pasadena</td>\n",
       "    </tr>\n",
       "    <tr>\n",
       "      <th>3</th>\n",
       "      <td>Sieera</td>\n",
       "      <td>31</td>\n",
       "      <td>Silicon-Valley</td>\n",
       "    </tr>\n",
       "    <tr>\n",
       "      <th>4</th>\n",
       "      <td>Heidy</td>\n",
       "      <td>27</td>\n",
       "      <td>Hollywood</td>\n",
       "    </tr>\n",
       "  </tbody>\n",
       "</table>\n",
       "</div>"
      ],
      "text/plain": [
       "      Name  Age           Place\n",
       "0     Lana   30          Malibu\n",
       "1     Judy   23        Bay-Area\n",
       "2  Natasha   20        Pasadena\n",
       "3   Sieera   31  Silicon-Valley\n",
       "4    Heidy   27       Hollywood"
      ]
     },
     "execution_count": 27,
     "metadata": {},
     "output_type": "execute_result"
    }
   ],
   "source": [
    "# Access elements\n",
    "data = [\n",
    "    {'Name':'Lana','Age':30,'Place':'Malibu'},\n",
    "    {'Name':'Judy','Age':23,'Place':'Bay-Area'},\n",
    "    {'Name':'Natasha','Age':20,'Place':'Pasadena'},\n",
    "    {'Name':'Sieera','Age':31,'Place':'Silicon-Valley'},\n",
    "    {'Name':'Heidy','Age':27,'Place':'Hollywood'}\n",
    "]\n",
    "df = pd.DataFrame(data)\n",
    "df"
   ]
  },
  {
   "cell_type": "code",
   "execution_count": null,
   "id": "a96122e4",
   "metadata": {},
   "outputs": [
    {
     "name": "stderr",
     "output_type": "stream",
     "text": [
      "C:\\Users\\ehonf.FAIZAHS-X14\\AppData\\Local\\Temp\\ipykernel_28744\\2383548318.py:4: FutureWarning: Series.__getitem__ treating keys as positions is deprecated. In a future version, integer keys will always be treated as labels (consistent with DataFrame behavior). To access a value by position, use `ser.iloc[pos]`\n",
      "  df.iloc[2][2]\n"
     ]
    },
    {
     "data": {
      "text/plain": [
       "'Pasadena'"
      ]
     },
     "execution_count": 33,
     "metadata": {},
     "output_type": "execute_result"
    }
   ],
   "source": [
    "# df['Name']\n",
    "# type(df['Name'])\n",
    "# df.loc[3]\n",
    "# df.iloc[2][2]"
   ]
  },
  {
   "cell_type": "markdown",
   "id": "da56bd51",
   "metadata": {},
   "source": [
    "### How to read csv files in pandas"
   ]
  },
  {
   "cell_type": "code",
   "execution_count": 24,
   "id": "c70d6053",
   "metadata": {},
   "outputs": [
    {
     "data": {
      "text/html": [
       "<div>\n",
       "<style scoped>\n",
       "    .dataframe tbody tr th:only-of-type {\n",
       "        vertical-align: middle;\n",
       "    }\n",
       "\n",
       "    .dataframe tbody tr th {\n",
       "        vertical-align: top;\n",
       "    }\n",
       "\n",
       "    .dataframe thead th {\n",
       "        text-align: right;\n",
       "    }\n",
       "</style>\n",
       "<table border=\"1\" class=\"dataframe\">\n",
       "  <thead>\n",
       "    <tr style=\"text-align: right;\">\n",
       "      <th></th>\n",
       "      <th>Date</th>\n",
       "      <th>Category</th>\n",
       "      <th>Value</th>\n",
       "      <th>Product</th>\n",
       "      <th>Sales</th>\n",
       "      <th>Region</th>\n",
       "    </tr>\n",
       "  </thead>\n",
       "  <tbody>\n",
       "    <tr>\n",
       "      <th>0</th>\n",
       "      <td>2023-01-01</td>\n",
       "      <td>A</td>\n",
       "      <td>28.0</td>\n",
       "      <td>Product1</td>\n",
       "      <td>754.0</td>\n",
       "      <td>East</td>\n",
       "    </tr>\n",
       "    <tr>\n",
       "      <th>1</th>\n",
       "      <td>2023-01-02</td>\n",
       "      <td>B</td>\n",
       "      <td>39.0</td>\n",
       "      <td>Product3</td>\n",
       "      <td>110.0</td>\n",
       "      <td>North</td>\n",
       "    </tr>\n",
       "    <tr>\n",
       "      <th>2</th>\n",
       "      <td>2023-01-03</td>\n",
       "      <td>C</td>\n",
       "      <td>32.0</td>\n",
       "      <td>Product2</td>\n",
       "      <td>398.0</td>\n",
       "      <td>East</td>\n",
       "    </tr>\n",
       "    <tr>\n",
       "      <th>3</th>\n",
       "      <td>2023-01-04</td>\n",
       "      <td>B</td>\n",
       "      <td>8.0</td>\n",
       "      <td>Product1</td>\n",
       "      <td>522.0</td>\n",
       "      <td>East</td>\n",
       "    </tr>\n",
       "    <tr>\n",
       "      <th>4</th>\n",
       "      <td>2023-01-05</td>\n",
       "      <td>B</td>\n",
       "      <td>26.0</td>\n",
       "      <td>Product3</td>\n",
       "      <td>869.0</td>\n",
       "      <td>North</td>\n",
       "    </tr>\n",
       "  </tbody>\n",
       "</table>\n",
       "</div>"
      ],
      "text/plain": [
       "         Date Category  Value   Product  Sales Region\n",
       "0  2023-01-01        A   28.0  Product1  754.0   East\n",
       "1  2023-01-02        B   39.0  Product3  110.0  North\n",
       "2  2023-01-03        C   32.0  Product2  398.0   East\n",
       "3  2023-01-04        B    8.0  Product1  522.0   East\n",
       "4  2023-01-05        B   26.0  Product3  869.0  North"
      ]
     },
     "execution_count": 24,
     "metadata": {},
     "output_type": "execute_result"
    }
   ],
   "source": [
    "df1 = pd.read_csv('sales_data.csv')\n",
    "df1.head(5) # Top 5 elements of the file\n",
    "# remove print for an organized data visualization"
   ]
  }
 ],
 "metadata": {
  "kernelspec": {
   "display_name": "Python 3",
   "language": "python",
   "name": "python3"
  },
  "language_info": {
   "codemirror_mode": {
    "name": "ipython",
    "version": 3
   },
   "file_extension": ".py",
   "mimetype": "text/x-python",
   "name": "python",
   "nbconvert_exporter": "python",
   "pygments_lexer": "ipython3",
   "version": "3.10.0"
  }
 },
 "nbformat": 4,
 "nbformat_minor": 5
}

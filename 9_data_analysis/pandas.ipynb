{
 "cells": [
  {
   "cell_type": "markdown",
   "id": "7a4880e6",
   "metadata": {},
   "source": [
    "## Introduction to Pandas - DataFrame & Series"
   ]
  },
  {
   "cell_type": "code",
   "execution_count": 1,
   "id": "513120c1",
   "metadata": {},
   "outputs": [],
   "source": [
    "import pandas as pd"
   ]
  },
  {
   "cell_type": "markdown",
   "id": "784139fd",
   "metadata": {},
   "source": [
    "### Series\n",
    "''' Pandas series is one dimensional array-obj that can hold any data type.\n",
    "it is similar to a column in a table.'''\n"
   ]
  },
  {
   "cell_type": "code",
   "execution_count": 3,
   "id": "ecfc4bd9",
   "metadata": {},
   "outputs": [
    {
     "name": "stdout",
     "output_type": "stream",
     "text": [
      "0    23\n",
      "1    34\n",
      "2    46\n",
      "3    57\n",
      "4    61\n",
      "dtype: int64\n",
      "<class 'pandas.core.series.Series'>\n"
     ]
    }
   ],
   "source": [
    "import pandas as pd\n",
    "data = pd.Series([23,34,46,57,61])\n",
    "print(data)\n",
    "print(type(data))"
   ]
  },
  {
   "cell_type": "code",
   "execution_count": 6,
   "id": "1f4251d1",
   "metadata": {},
   "outputs": [
    {
     "name": "stdout",
     "output_type": "stream",
     "text": [
      "a    5\n",
      "b    8\n",
      "c    2\n",
      "d    7\n",
      "dtype: int64\n"
     ]
    }
   ],
   "source": [
    "# Series from Dictionary\n",
    "data = pd.Series({'a': 5,'b': 8,'c': 2, 'd': 7})\n",
    "print(data)"
   ]
  },
  {
   "cell_type": "code",
   "execution_count": 11,
   "id": "6eb25142",
   "metadata": {},
   "outputs": [
    {
     "data": {
      "text/plain": [
       "a    31\n",
       "c    33\n",
       "e    35\n",
       "g    37\n",
       "i    39\n",
       "dtype: int64"
      ]
     },
     "execution_count": 11,
     "metadata": {},
     "output_type": "execute_result"
    }
   ],
   "source": [
    "data = [31,33,35,37,39]\n",
    "idx = ['a','c','e','g','i']\n",
    "pd.Series(data,idx)"
   ]
  },
  {
   "cell_type": "markdown",
   "id": "57cee447",
   "metadata": {},
   "source": [
    "### DataFrame\n",
    "''' DataFrame is a 2D mutable heterogenous tabular data\n",
    "It can have multiple rows & cols\n",
    "'''"
   ]
  },
  {
   "cell_type": "code",
   "execution_count": 15,
   "id": "9ff4bc5b",
   "metadata": {},
   "outputs": [
    {
     "name": "stdout",
     "output_type": "stream",
     "text": [
      "    Name  Age      Place\n",
      "0   Lana   30     Malibu\n",
      "1   Abel   31   Bay-Area\n",
      "2  Bella   25  Hollywood\n",
      "<class 'pandas.core.frame.DataFrame'>\n"
     ]
    }
   ],
   "source": [
    "# DataFrame from dictrionary\n",
    "import pandas as pd\n",
    "data = {\n",
    "    'Name' : ['Lana','Abel','Bella'],\n",
    "    'Age' : [30,31,25],\n",
    "    'Place' : ['Malibu','Bay-Area','Hollywood']\n",
    "}\n",
    "df = pd.DataFrame(data)\n",
    "print(df)\n",
    "print(type(df))"
   ]
  },
  {
   "cell_type": "code",
   "execution_count": 16,
   "id": "76fa5ea4",
   "metadata": {},
   "outputs": [
    {
     "name": "stdout",
     "output_type": "stream",
     "text": [
      "[['Lana' 30 'Malibu']\n",
      " ['Abel' 31 'Bay-Area']\n",
      " ['Bella' 25 'Hollywood']]\n"
     ]
    }
   ],
   "source": [
    "import numpy as np\n",
    "n = np.array(df)\n",
    "print(n)"
   ]
  },
  {
   "cell_type": "code",
   "execution_count": null,
   "id": "53bf6bfe",
   "metadata": {},
   "outputs": [],
   "source": [
    "# create a DataFrame from list of dictionaries\n"
   ]
  }
 ],
 "metadata": {
  "kernelspec": {
   "display_name": "Python 3",
   "language": "python",
   "name": "python3"
  },
  "language_info": {
   "codemirror_mode": {
    "name": "ipython",
    "version": 3
   },
   "file_extension": ".py",
   "mimetype": "text/x-python",
   "name": "python",
   "nbconvert_exporter": "python",
   "pygments_lexer": "ipython3",
   "version": "3.10.0"
  }
 },
 "nbformat": 4,
 "nbformat_minor": 5
}

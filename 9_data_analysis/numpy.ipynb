{
 "cells": [
  {
   "cell_type": "markdown",
   "id": "95bf4cca",
   "metadata": {},
   "source": [
    "## Introduction to Numpy"
   ]
  },
  {
   "cell_type": "markdown",
   "id": "57a1f30f",
   "metadata": {},
   "source": [
    "If not installed in requirements.txt we can try-\n",
    "\n",
    "<span style=\"color:orange\">!pip install numpy</span>"
   ]
  },
  {
   "cell_type": "code",
   "execution_count": null,
   "id": "5f8e57d8",
   "metadata": {},
   "outputs": [
    {
     "name": "stdout",
     "output_type": "stream",
     "text": [
      "[1 2 3 4 5]\n",
      "<class 'numpy.ndarray'>\n",
      "5\n",
      "(5,)\n"
     ]
    }
   ],
   "source": [
    "# Create a 1D array - no rows & columns\n",
    "import numpy as np\n",
    "arr = np.array([1,2,3,4,5])\n",
    "print(arr)\n",
    "print(type(arr))\n",
    "print(len(arr)) # returns element in an array\n",
    "print(arr.shape) \n",
    "'''arr.shape provides the dimensions of the array (like rows and columns). \n",
    "Only available in NumPy'''"
   ]
  },
  {
   "cell_type": "code",
   "execution_count": 9,
   "id": "68cb336d",
   "metadata": {},
   "outputs": [
    {
     "name": "stdout",
     "output_type": "stream",
     "text": [
      "[[1 2 3 4 5]\n",
      " [5 6 7 8 9]]\n",
      "(2, 5)\n"
     ]
    }
   ],
   "source": [
    "# Create 2D array\n",
    "import numpy as np\n",
    "arr1 = [1,2,3,4,5]\n",
    "arr2 = [5,6,7,8,9]\n",
    "new_arr = np.array([arr1 , arr2])\n",
    "# new_arr = np.array(arr1+arr2) # concatenate, not 2D\n",
    "print(new_arr)\n",
    "print(new_arr.shape)"
   ]
  },
  {
   "cell_type": "code",
   "execution_count": null,
   "id": "d70b3eed",
   "metadata": {},
   "outputs": [
    {
     "name": "stdout",
     "output_type": "stream",
     "text": [
      "[0 2 4 6 8]\n"
     ]
    }
   ],
   "source": [
    "# np.arange(start,end,steps) \n",
    "'''it's arange not arrange'''\n",
    "import numpy as np\n",
    "arr = np.arange(0,10,2)\n",
    "print(arr)"
   ]
  },
  {
   "cell_type": "code",
   "execution_count": 18,
   "id": "34681440",
   "metadata": {},
   "outputs": [
    {
     "data": {
      "text/plain": [
       "array([[ 5],\n",
       "       [ 7],\n",
       "       [ 9],\n",
       "       [11],\n",
       "       [13]])"
      ]
     },
     "execution_count": 18,
     "metadata": {},
     "output_type": "execute_result"
    }
   ],
   "source": [
    "# np.reshape(rows,columns)\n",
    "arr = np.arange(5,15,2)\n",
    "arr.reshape(5,1)"
   ]
  },
  {
   "cell_type": "code",
   "execution_count": null,
   "id": "f93128b5",
   "metadata": {},
   "outputs": [
    {
     "data": {
      "text/plain": [
       "array([[1., 1.],\n",
       "       [1., 1.],\n",
       "       [1., 1.]])"
      ]
     },
     "execution_count": 20,
     "metadata": {},
     "output_type": "execute_result"
    }
   ],
   "source": [
    "# np.ones(rows,columns) - all elements will be 1\n",
    "'''if \n",
    "np.ones() - single bracket..\n",
    "NumPy expects the shape of the array to be a single tuple\n",
    "not multiple separate arguments.'''\n",
    "np.ones((3,2))"
   ]
  },
  {
   "cell_type": "code",
   "execution_count": 38,
   "id": "6bf16e14",
   "metadata": {},
   "outputs": [
    {
     "data": {
      "text/plain": [
       "array([[0., 1., 0.],\n",
       "       [0., 0., 1.],\n",
       "       [0., 0., 0.],\n",
       "       [0., 0., 0.]])"
      ]
     },
     "execution_count": 38,
     "metadata": {},
     "output_type": "execute_result"
    }
   ],
   "source": [
    "# Identity matrix\n",
    "np.eye(3) # N×N square matrix\n",
    "np.eye(2,3) # NxM\n",
    "np.eye(4,3,1) # NxMxK; k = # Shift diagonal k step to the right col"
   ]
  },
  {
   "cell_type": "code",
   "execution_count": 26,
   "id": "01932bdd",
   "metadata": {},
   "outputs": [
    {
     "name": "stdout",
     "output_type": "stream",
     "text": [
      "[[ 1  2  3  4]\n",
      " [ 5  6  7  8]\n",
      " [ 9 10 11 12]] \n",
      "\n"
     ]
    }
   ],
   "source": [
    "# Slicing & Indexing(row x col)\n",
    "arr = np.array([[1,2,3,4],[5,6,7,8],[9,10,11,12]])\n",
    "print(arr,'\\n')\n",
    "# print(arr.shape)\n"
   ]
  },
  {
   "cell_type": "code",
   "execution_count": 57,
   "id": "bb529b3b",
   "metadata": {},
   "outputs": [
    {
     "name": "stdout",
     "output_type": "stream",
     "text": [
      "4 7 10 1 \n",
      "\n",
      "[[ 7  8]\n",
      " [11 12]]\n",
      "\n",
      "\n",
      "[[ 7  8]\n",
      " [11 12]]\n",
      "\n",
      "\n",
      "[[3 4]\n",
      " [7 8]]\n",
      "\n",
      "\n",
      "[[ 6  7  8]\n",
      " [10 11 12]]\n",
      "\n",
      "\n",
      "[[ 6  7]\n",
      " [10 11]]\n"
     ]
    }
   ],
   "source": [
    "print(arr[0][3],end=' ')\n",
    "print(arr[1][2],end=' ')\n",
    "print(arr[2][1],end=' ')\n",
    "print(arr[0][0],end=' ')\n",
    "print('\\n')\n",
    "print(arr[1:,2:])\n",
    "print('\\n')\n",
    "print(arr[1:,2:])\n",
    "print('\\n')\n",
    "print(arr[0:2,2:])\n",
    "print('\\n')\n",
    "print(arr[1:3,1:]) # arr[1:,1:]\n",
    "print('\\n')\n",
    "print(arr[1:3,1:3])\n"
   ]
  },
  {
   "cell_type": "code",
   "execution_count": 66,
   "id": "8a6bfe36",
   "metadata": {},
   "outputs": [
    {
     "name": "stdout",
     "output_type": "stream",
     "text": [
      "[[21 22 23]\n",
      " [34 35 36]\n",
      " [57 58 59]]\n",
      "\n",
      "\n",
      "[[21 22 23]\n",
      " [34 35 55]\n",
      " [57 58 59]]\n",
      "\n",
      "\n",
      "[[21 22 23]\n",
      " [34 35 55]\n",
      " [89 89 89]]\n"
     ]
    }
   ],
   "source": [
    "# Modification of elements\n",
    "arr1 = np.array([[21,22,23],[34,35,36],[57,58,59]])\n",
    "print(arr1)\n",
    "print('\\n')\n",
    "arr1[1][2] = 55\n",
    "print(arr1) \n",
    "print('\\n')\n",
    "arr1 [2:] = 89\n",
    "print(arr1)"
   ]
  },
  {
   "cell_type": "code",
   "execution_count": 70,
   "id": "41584261",
   "metadata": {},
   "outputs": [
    {
     "name": "stdout",
     "output_type": "stream",
     "text": [
      "Normalized Data: \n",
      " [-1.41421356 -0.70710678  0.          0.70710678  1.41421356]\n"
     ]
    }
   ],
   "source": [
    "### Statistical Concepts - Normalization\n",
    "## Normalization = to have a mean of 0 and standard deviation of 1\n",
    "\n",
    "data = np.array([1,2,3,4,5])\n",
    "\n",
    "# Calculate mean and standard deviation\n",
    "mean_of_data = np.mean(data)\n",
    "std_of_data = np.std(data)\n",
    "\n",
    "# print(mean_of_data)\n",
    "# print(std_of_data)\n",
    "\n",
    "# Normalize the data\n",
    "normalized_data = (data - mean_of_data) / std_of_data\n",
    "print('Normalized Data: \\n',normalized_data)\n"
   ]
  },
  {
   "cell_type": "code",
   "execution_count": 75,
   "id": "d9bc8781",
   "metadata": {},
   "outputs": [
    {
     "name": "stdout",
     "output_type": "stream",
     "text": [
      "Mean:  5.5\n",
      "Median:  5.5\n",
      "Std:  2.8722813232690143\n",
      "Variance:  8.25\n"
     ]
    }
   ],
   "source": [
    "### Mean Median Std Variance\n",
    "data = np.array([1,2,3,4,5,6,7,8,9,10])\n",
    "\n",
    "# Mean \n",
    "mean_of_data = np.mean(data)\n",
    "print('Mean: ',mean_of_data)\n",
    "\n",
    "# Median\n",
    "median_of_data = np.median(data)\n",
    "print('Median: ',median_of_data)\n",
    "\n",
    "# Standard Deviation\n",
    "std_of_data = np.std(data)\n",
    "print('Std: ',std_of_data)\n",
    "\n",
    "# Variance\n",
    "variance_of_data = np.var(data)\n",
    "print('Variance: ',variance_of_data)"
   ]
  },
  {
   "cell_type": "code",
   "execution_count": null,
   "id": "b89b531a",
   "metadata": {},
   "outputs": [
    {
     "data": {
      "text/plain": [
       "array([5, 6, 7, 8])"
      ]
     },
     "execution_count": 79,
     "metadata": {},
     "output_type": "execute_result"
    }
   ],
   "source": [
    "# logical Operation\n",
    "data = np.array([1,2,3,4,5,6,7,8,9,10])\n",
    "\n",
    "# data > 5        # Output: array([False, False, False, False, False,  True,  True,  True,  True, True])\n",
    "data[data > 5]      # Output:  array([ 6,  7,  8,  9, 10])\n",
    "data[(data>=5) & (data <=8)]"
   ]
  }
 ],
 "metadata": {
  "kernelspec": {
   "display_name": "Python 3",
   "language": "python",
   "name": "python3"
  },
  "language_info": {
   "codemirror_mode": {
    "name": "ipython",
    "version": 3
   },
   "file_extension": ".py",
   "mimetype": "text/x-python",
   "name": "python",
   "nbconvert_exporter": "python",
   "pygments_lexer": "ipython3",
   "version": "3.10.0"
  }
 },
 "nbformat": 4,
 "nbformat_minor": 5
}

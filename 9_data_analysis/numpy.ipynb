{
 "cells": [
  {
   "cell_type": "markdown",
   "id": "95bf4cca",
   "metadata": {},
   "source": [
    "## Introduction to Numpy"
   ]
  },
  {
   "cell_type": "markdown",
   "id": "57a1f30f",
   "metadata": {},
   "source": [
    "If not installed in requirements.txt we can try-\n",
    "\n",
    "<span style=\"color:orange\">!pip install numpy</span>"
   ]
  },
  {
   "cell_type": "code",
   "execution_count": null,
   "id": "5f8e57d8",
   "metadata": {},
   "outputs": [
    {
     "name": "stdout",
     "output_type": "stream",
     "text": [
      "[1 2 3 4 5]\n",
      "<class 'numpy.ndarray'>\n",
      "5\n",
      "(5,)\n"
     ]
    }
   ],
   "source": [
    "# Create a 1D array - no rows & columns\n",
    "import numpy as np\n",
    "arr = np.array([1,2,3,4,5])\n",
    "print(arr)\n",
    "print(type(arr))\n",
    "print(len(arr)) # returns element in an array\n",
    "print(arr.shape) \n",
    "'''arr.shape provides the dimensions of the array (like rows and columns). \n",
    "Only available in NumPy'''"
   ]
  },
  {
   "cell_type": "code",
   "execution_count": 9,
   "id": "68cb336d",
   "metadata": {},
   "outputs": [
    {
     "name": "stdout",
     "output_type": "stream",
     "text": [
      "[[1 2 3 4 5]\n",
      " [5 6 7 8 9]]\n",
      "(2, 5)\n"
     ]
    }
   ],
   "source": [
    "# Create 2D array\n",
    "import numpy as np\n",
    "arr1 = [1,2,3,4,5]\n",
    "arr2 = [5,6,7,8,9]\n",
    "new_arr = np.array([arr1 , arr2])\n",
    "# new_arr = np.array(arr1+arr2) # concatenate, not 2D\n",
    "print(new_arr)\n",
    "print(new_arr.shape)"
   ]
  },
  {
   "cell_type": "code",
   "execution_count": null,
   "id": "d70b3eed",
   "metadata": {},
   "outputs": [
    {
     "name": "stdout",
     "output_type": "stream",
     "text": [
      "[0 2 4 6 8]\n"
     ]
    }
   ],
   "source": [
    "# np.arange(start,end,steps) \n",
    "'''it's arange not arrange'''\n",
    "import numpy as np\n",
    "arr = np.arange(0,10,2)\n",
    "print(arr)"
   ]
  },
  {
   "cell_type": "code",
   "execution_count": 18,
   "id": "34681440",
   "metadata": {},
   "outputs": [
    {
     "data": {
      "text/plain": [
       "array([[ 5],\n",
       "       [ 7],\n",
       "       [ 9],\n",
       "       [11],\n",
       "       [13]])"
      ]
     },
     "execution_count": 18,
     "metadata": {},
     "output_type": "execute_result"
    }
   ],
   "source": [
    "# np.reshape(rows,columns)\n",
    "arr = np.arange(5,15,2)\n",
    "arr.reshape(5,1)"
   ]
  },
  {
   "cell_type": "code",
   "execution_count": null,
   "id": "f93128b5",
   "metadata": {},
   "outputs": [
    {
     "data": {
      "text/plain": [
       "array([[1., 1.],\n",
       "       [1., 1.],\n",
       "       [1., 1.]])"
      ]
     },
     "execution_count": 20,
     "metadata": {},
     "output_type": "execute_result"
    }
   ],
   "source": [
    "# np.ones(rows,columns) - all elements will be 1\n",
    "'''if \n",
    "np.ones() - single bracket..\n",
    "NumPy expects the shape of the array to be a single tuple\n",
    "not multiple separate arguments.'''\n",
    "np.ones((3,2))"
   ]
  },
  {
   "cell_type": "code",
   "execution_count": 38,
   "id": "6bf16e14",
   "metadata": {},
   "outputs": [
    {
     "data": {
      "text/plain": [
       "array([[0., 1., 0.],\n",
       "       [0., 0., 1.],\n",
       "       [0., 0., 0.],\n",
       "       [0., 0., 0.]])"
      ]
     },
     "execution_count": 38,
     "metadata": {},
     "output_type": "execute_result"
    }
   ],
   "source": [
    "# Identity matrix\n",
    "np.eye(3) # N×N square matrix\n",
    "np.eye(2,3) # NxM\n",
    "np.eye(4,3,1) # NxMxK; k = # Shift diagonal k step to the right col"
   ]
  },
  {
   "cell_type": "code",
   "execution_count": 26,
   "id": "01932bdd",
   "metadata": {},
   "outputs": [
    {
     "name": "stdout",
     "output_type": "stream",
     "text": [
      "[[ 1  2  3  4]\n",
      " [ 5  6  7  8]\n",
      " [ 9 10 11 12]] \n",
      "\n"
     ]
    }
   ],
   "source": [
    "# Slicing & Indexing(row x col)\n",
    "arr = np.array([[1,2,3,4],[5,6,7,8],[9,10,11,12]])\n",
    "print(arr,'\\n')\n",
    "# print(arr.shape)\n"
   ]
  },
  {
   "cell_type": "code",
   "execution_count": 57,
   "id": "bb529b3b",
   "metadata": {},
   "outputs": [
    {
     "name": "stdout",
     "output_type": "stream",
     "text": [
      "4 7 10 1 \n",
      "\n",
      "[[ 7  8]\n",
      " [11 12]]\n",
      "\n",
      "\n",
      "[[ 7  8]\n",
      " [11 12]]\n",
      "\n",
      "\n",
      "[[3 4]\n",
      " [7 8]]\n",
      "\n",
      "\n",
      "[[ 6  7  8]\n",
      " [10 11 12]]\n",
      "\n",
      "\n",
      "[[ 6  7]\n",
      " [10 11]]\n"
     ]
    }
   ],
   "source": [
    "print(arr[0][3],end=' ')\n",
    "print(arr[1][2],end=' ')\n",
    "print(arr[2][1],end=' ')\n",
    "print(arr[0][0],end=' ')\n",
    "print('\\n')\n",
    "print(arr[1:,2:])\n",
    "print('\\n')\n",
    "print(arr[1:,2:])\n",
    "print('\\n')\n",
    "print(arr[0:2,2:])\n",
    "print('\\n')\n",
    "print(arr[1:3,1:]) # arr[1:,1:]\n",
    "print('\\n')\n",
    "print(arr[1:3,1:3])\n"
   ]
  }
 ],
 "metadata": {
  "kernelspec": {
   "display_name": "Python 3",
   "language": "python",
   "name": "python3"
  },
  "language_info": {
   "codemirror_mode": {
    "name": "ipython",
    "version": 3
   },
   "file_extension": ".py",
   "mimetype": "text/x-python",
   "name": "python",
   "nbconvert_exporter": "python",
   "pygments_lexer": "ipython3",
   "version": "3.10.0"
  }
 },
 "nbformat": 4,
 "nbformat_minor": 5
}
